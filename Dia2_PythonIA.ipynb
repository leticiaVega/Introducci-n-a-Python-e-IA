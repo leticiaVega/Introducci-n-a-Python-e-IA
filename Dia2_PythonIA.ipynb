{
 "cells": [
  {
   "cell_type": "markdown",
   "id": "7ac94a4c",
   "metadata": {},
   "source": [
    "<img src=\"img/logoprincipal_TIB.png\"/>"
   ]
  },
  {
   "cell_type": "markdown",
   "id": "65bf4f04",
   "metadata": {},
   "source": [
    "<div style=\"background-color: #f8f9fa; padding: 12px; border-radius: 10px; font-family: Arial, sans-serif; color: #003049; max-width: 750px; border: 1px solid #ddd;; font-size: 17px;\">\n",
    "\n",
    "**Leticia Vega Alvarado**  \n",
    "*Instructora del curso*  \n",
    "Grupo de Análisis de Imágenes, Visualización y Bioinformática  \n",
    "Instituto de Ciencias Aplicadas y Tecnología, UNAM  \n",
    "✉️ <strong>leticia.vega@icat.unam.mx</strong>\n",
    "\n",
    "</div>"
   ]
  },
  {
   "cell_type": "markdown",
   "id": "12acf83a",
   "metadata": {},
   "source": [
    "# Índice\n",
    "- [Visualización de datos tabulares](#Visualización-de-datos-tabulares)\n",
    "  - [Entendiendo el despliegue de una gráfica](#Entendiendo-el-despliegue-de-una-gráfica)\n",
    "  - [La función plot](#La-función-plot)\n",
    "  - [La función boxplot](#La-función-boxplot)\n",
    "  - [La función hist](#La-función-hist)\n",
    "  - [Tu gráfica también necesita presentación](#Tu-gráfica-también-necesita-presentación-(Agrega-título,-ejes-y-leyendas))\n",
    "  - [Agrupando gráficos](#Agrupando-gráficos)\n",
    "  - [Ejercicios propuestos](#EjVDT)\n",
    "  - [Puntos clave](#PClave1)\n",
    "- [Tomando decisiones](#Tomando-decisiones)\n",
    "  - [Condicionales](#Condicionales)\n",
    "  - [Operadores relacionales y lógicos](#Operadores-relacionales-y-lógicos)\n",
    "  - [Trabajando con nuestros datos](#Trabajando-con-nuestros-datos)\n",
    "  - [Ejercicios propuestos](#EjTD)\n",
    "  - [Puntos clave](#PClave2)\n",
    "- [Loops: repitiendo acciones](#Loops:-repitiendo-acciones)\n",
    "  - [Simplificando tareas con repeticiones](#Simplificando-tareas-con-repeticiones)\n",
    "  - [Forma general del ciclo](#Un-enfoque-mejor-es-un-ciclo-for.-La-forma-general-del-ciclo-es:)\n",
    "  - [Contadores](#Contadores:-este-es-otro-ejemplo-de-un-ciclo-que-actualiza-repetidamente-una-variable)\n",
    "  - [Aplicando `for` e `if` para análisis de datos de supervivencia](#Aplicando-for-e-if-para-análisis-de-supervivencia-en-dos-rangos-etarios)\n",
    "  - [Lista por comprensión](#Lista-por-comprensión)\n",
    "  - [Ejercicios propuestos](#EjLoops)\n",
    "  - [Puntos clave](#PClave3)\n",
    "- [Creación de funciones](#Creación-de-funciones)\n",
    "  - [Organizando nuestro código con funciones](#Organizando-nuestro-código-con-funciones)\n",
    "  - [Definición de una función](#Definición-de-una-función)\n",
    "  - [Composición de funciones](#Composición-de-funciones)\n",
    "  - [Ámbito de las variables](#Ámbito-de-las-variables)\n",
    "  - [Organizando nuestro análisis con funciones](#Organizando-nuestro-análisis-con-funciones)\n",
    "  - [Definición de valores por defecto](#Definición-de-valores-por-defecto)\n",
    "  - [Documentación](#Documentación)\n",
    "  - [Ejercicios propuesto](#EjFun)\n",
    "  - [Puntos clave](#PClave4)\n",
    "- [Respuestas ejercicios propuestos](#Respuestas-ejercicios-propuestos)\n",
    "  - [Ejercicios Visualización de datos tabulares](#Ejercicios-Visualización-de-datos-tabulares)\n",
    "  - [Ejercicios Tomando decisiones](#Ejercicios-Tomando-decisiones)\n",
    "  - [Ejercicios Loops: repitiendo acciones](#Ejercicios-Loops:-repitiendo-acciones)\n",
    "  - [Ejercicios Creación de funciones](#Ejercicios-Creación-de-funciones)"
   ]
  },
  {
   "cell_type": "markdown",
   "id": "39289908-2784-436e-b040-cb5aa2d90d73",
   "metadata": {},
   "source": [
    "# Visualización de datos tabulares"
   ]
  },
  {
   "cell_type": "markdown",
   "id": "be62fb35",
   "metadata": {},
   "source": [
    "## Pregunta:\n",
    "\n",
    "> + ¿Cómo puedo visualizar mis datos en Python para entenderlos mejor?\n",
    "> + ¿Cómo puedo agrupar diversas gráficas?\n",
    "\n",
    "## Objetivos:\n",
    "> + Generar gráficas sencillas a partir de datos tabulares\n",
    "> + Crear gráficos básicos (líneas, cajas, histogramas) usando `matplotlib`\n",
    "> + Modificar algunas características estéticas de la gráfica\n",
    "> + Representar varios gráficos en una figura\n",
    "> + Guardar gráficos en archivos (como PNG o PDF)\n",
    "\n",
    "<div style=\"text-align: right;\">\n",
    "  <a href=\"#Índice\">Regresar al Índice</a>\n",
    "</div>"
   ]
  },
  {
   "cell_type": "markdown",
   "id": "b700c677",
   "metadata": {},
   "source": [
    "Cuando trabajamos con datos en Python, a menudo utilizamos listas, tablas o arreglos llenos de números. Aunque estos contienen información valiosa, interpretarlos directamente puede resultar complicado. En este contexto, la visualización de datos se convierte en una herramienta fundamental para facilitar su comprensión y análisis.\n",
    "\n",
    "La visualización es un tema amplio que bien podría abordarse a lo largo de todo un curso. No obstante, en esta lección nos centraremos en algunas de las funciones básicas de `matplotlib`, una biblioteca de Python ampliamente empleada para la creación de gráficos. La documentación completa puede consultarse en su sitio web oficial: <https://matplotlib.org>. "
   ]
  },
  {
   "cell_type": "markdown",
   "id": "ba312570-db91-4fd4-9ff8-9375212144b0",
   "metadata": {},
   "source": [
    "## Entendiendo el despliegue de una gráfica\n",
    "\n",
    "Antes de empezar a generar gráficos con `matplotlib.pyplot.plot()`, conviene entender qué estamos haciendo al crear una visualización. Para ello, revisemos primero el esquema general de una gráfica creada con `matplotlib`."
   ]
  },
  {
   "cell_type": "markdown",
   "id": "b76baeb7",
   "metadata": {},
   "source": [
    "<figure style=\"text-align: center;\">\n",
    "    <img src=\"img/EsquemaCompletoGrafica.png\" width=\"450\" height=\"450\" alt=\"Esquema general de una gráfica en Matplotlib\">\n",
    "    <figcaption>\n",
    "        Imagen obtenida y modificada de \n",
    "        <a href=\"https://interactivechaos.com/es/manual/tutorial-de-matplotlib/nomenclatura\" target=\"_blank\">\n",
    "            Interactivechaos.com\n",
    "        </a>\n",
    "    </figcaption>\n",
    "</figure>\n",
    "\n",
    "\n",
    "Como podemos observar, de manera general, una gráfica en `matplotlib` está compuesta por una **figura**, que es el espacio **o lienzo** donde se dibuja todo; dentro de la figura se encuentran uno o varios **ejes**, que definen el área donde se representan los datos; y la **gráfica** es la representación visual de los datos dentro de esos ejes, como líneas, barras o puntos."
   ]
  },
  {
   "cell_type": "markdown",
   "id": "2023c34e",
   "metadata": {},
   "source": [
    "## La función plot\n",
    "\n",
    "La mayoría de las funciones de `matplotlib()` están localizadas en la sublibrería `pyplot`. Esta sublibrería proporciona una interfaz sencilla para crear gráficos de forma rápida y ordenada. La función `plot()` nos permite crear gráficos de líneas, que son una de las formas más comunes de visualizar datos. Al aprender cómo usar `plot()`, cómo pasarle datos, cómo personalizar colores, estilos, etiquetas y leyendas— también estamos sentando las bases para trabajar con otras funciones como bar(), scatter(), hist(), etc., ya que muchas comparten parámetros y lógica de uso. \n",
    "\n",
    "`plot()` recibe un conjunto de valores X e Y mostrandolos en el plano definido por los ejes como puntos unidos por líneas:"
   ]
  },
  {
   "cell_type": "code",
   "execution_count": null,
   "id": "92db7248",
   "metadata": {},
   "outputs": [],
   "source": [
    "# Graficar una línea usando dos listas de datos (X e Y) con matplotlib\n",
    "\n",
    "import matplotlib.pyplot\n",
    "\n",
    "datosX = [1,2,3,4]\n",
    "datosY = [2,5,1,7]\n",
    "\n",
    "matplotlib.pyplot.plot(datosX,datosY)\n",
    "matplotlib.pyplot.show()\n"
   ]
  },
  {
   "cell_type": "markdown",
   "id": "54a1d8be",
   "metadata": {},
   "source": [
    "Como ejemplo práctico, utilizaremos el archivo de datos reacionado con cancer de mama (3_Breast_Cancer.csv), para mostrar cómo representar visualmente la información usando las funciones básicas de `pyplot`."
   ]
  },
  {
   "cell_type": "markdown",
   "id": "55e79879",
   "metadata": {},
   "source": [
    "<div style=\"\n",
    "  border-left: 8px solid #6a0dad;\n",
    "  background-color: #f8f9fa;\n",
    "  padding: 20px;\n",
    "  margin-bottom: 20px;\n",
    "  font-family: sans-serif;\n",
    "  box-shadow: 0 2px 4px rgba(0,0,0,0.1);\n",
    "\">\n",
    "\n",
    "  <h2 style=\"margin-top: 0;\">Nota</h2>\n",
    "\n",
    "  <p>\n",
    "    Recordemos de la lección anterior que existen diversas formas de leer un archivo de datos, sin embargo, para esta lección utilizaremos la biblioteca <code>pandas</code>, por lo tanto es necesario importarla, para porsteriormente leer el archivo.\n",
    "  </p>\n",
    "\n",
    "</div>"
   ]
  },
  {
   "cell_type": "code",
   "execution_count": null,
   "id": "a67a3d42-bd7a-461f-85e5-181646d898f8",
   "metadata": {
    "scrolled": true
   },
   "outputs": [],
   "source": [
    "# Gráfica del promedio del tamaño del tumor por estadío clínico (6th Stage),\n",
    "# usando los datos del archivo 3_Breast_Cancer.csv\n",
    "\n",
    "import pandas\n",
    "\n",
    "# Leyendo el archivo\n",
    "dataCancer = pandas.read_csv('DataSet/3_Breast_Cancer.csv')\n",
    "\n",
    "# Promedio del tamaño del tumor por estadio clínico (6th_Satge)\n",
    "avr_TumSiz = dataCancer.groupby('6th Stage')['Tumor Size'].mean()\n",
    "\n",
    "# Graficando los datos\n",
    "matplotlib.pyplot.plot(avr_TumSiz)\n",
    "matplotlib.pyplot.show()\n",
    "\n"
   ]
  },
  {
   "cell_type": "markdown",
   "id": "a1a9d1e9-6c62-4f90-ae0d-0d303953fe3e",
   "metadata": {},
   "source": [
    "En este caso obtuvimos el promedio del tamaño del tumor por estadio clínico y lo almacenamos en la variable ***avr_TumSiz***. Luego utilizamos `matplotlib.pyplot` para generar y mostrar una gráfica lineal con esos valores. \n",
    "\n",
    "El resultado es una gráfica que muestra cómo el tamaño promedio del tumor tiende a aumentar a medida que el estadio clínico avanza. Por ejemplo, en el estadio IIA el promedio es de 18 mm, mientras que en el estadio IIIC supera los 50 mm. Esto sugiere una correlación entre la progresión del cáncer y el crecimiento tumoral, lo cual es coherente con la literatura clínica.\n",
    "\n",
    "No obstante, se observa que el estadio IIIB presenta un promedio más bajo que el estadio IIB, lo cual podría deberse a una baja cantidad de casos en ese grupo o a factores clínicos particulares que merecen una revisión más detallada."
   ]
  },
  {
   "cell_type": "markdown",
   "id": "8601a5bb",
   "metadata": {},
   "source": [
    "## La función boxplot\n",
    "\n",
    "La función `matplotlib.pyplot.boxplot()` permite crear un **diagrama de caja (boxplot)**, que muestra la distribución de un conjunto de datos numéricos, incluyendo su mediana, cuartiles y posibles valores atípicos.\n",
    "\n",
    "`matplotlib.pyplot.boxplot()` recibe como datos de entrada una lista, array o lista de listas/arrays. A continuación, veamos un ejemplo que nos permite visualizar cómo se distribuyen los tamaños de los tumores según los grados 1 y 3."
   ]
  },
  {
   "cell_type": "code",
   "execution_count": null,
   "id": "8dcd3af2",
   "metadata": {},
   "outputs": [],
   "source": [
    "# Gráfico de cajas (boxplot) para comparar la distribución del tamaño del tumor entre los grados 1 y 3\n",
    "\n",
    "# Filtrar los tamaños del tumor por grado\n",
    "tumores_grado1 = dataCancer[dataCancer['Grade'] == \"1\"]['Tumor Size']\n",
    "tumores_grado3 = dataCancer[dataCancer['Grade'] == \"3\"]['Tumor Size']\n",
    "\n",
    "# Crear el boxplot\n",
    "matplotlib.pyplot.boxplot([tumores_grado1, tumores_grado3], labels=['Grado 1', 'Grado 3'])\n",
    "matplotlib.pyplot.show()"
   ]
  },
  {
   "cell_type": "markdown",
   "id": "05d9c1aa",
   "metadata": {},
   "source": [
    "En este caso, filtramos los valores de la variable ***Tumor_Size*** correspondientes a los pacientes con grado histológico 1 y 3. Posteriormente, utilizamos la función `matplotlib.pyplot.boxplot()` para graficar y comparar la distribución del tamaño del tumor entre ambos grupos. El resultado es un diagrama de caja que permite **visualizar la mediana, el rango intercuartílico y la presencia de posibles valores atípicos** en cada categoría de grado histológico.\n",
    "\n",
    "En términos clínicos, se observa que los tumores de grado 3 tienden a tener un mayor tamaño y una mayor variabilidad en comparación con los de grado 1, lo cual es coherente con la clasificación histológica: los tumores de alto grado suelen ser menos diferenciados, más agresivos y con un crecimiento más rápido."
   ]
  },
  {
   "cell_type": "markdown",
   "id": "0f912f9c",
   "metadata": {},
   "source": [
    "<div style=\"\n",
    "  border-left: 8px solid #6a0dad;\n",
    "  background-color: #f8f9fa;\n",
    "  padding: 20px;\n",
    "  margin-bottom: 20px;\n",
    "  font-family: sans-serif;\n",
    "  box-shadow: 0 2px 4px rgba(0,0,0,0.1);\n",
    "\">\n",
    "\n",
    "  <h2 style=\"margin-top: 0;\">Nota: Métodos de graficación de <code>pandas</code></h2>\n",
    "\n",
    "  <p>\n",
    "      La biblioteca <code>pandas</code> también ofrece métodos de graficación integrados que permiten generar visualizaciones de forma más directa y sencilla. Por ejemplo, el siguiente código crea un diagrama de caja del tamaño del tumor según el grado histológico:\n",
    "      \n",
    "  </p>\n",
    "          <hr style=\"border: 0; height: 1px; background-color: #ccc; margin: 20px 0;\" />\n",
    "\n",
    "  <pre style=\"\n",
    "    background-color: #ffffff;\n",
    "    color: #000000;\n",
    "    border: 1px solid #ccc;\n",
    "    padding: 10px;\n",
    "    border-radius: 4px;\n",
    "    font-family: monospace;\n",
    "    font-size: 14px;\n",
    "  \"><code>\n",
    "dataCancer.boxplot(column='Tumor Size', by='Grade')\n",
    "matplotlib.pyplot.show()\n",
    "  matplot.pyplot.title(\"Distribución del tamaño del tumor según el grado\", fontdict=fontEstilo)\n",
    "</code></pre>\n",
    "    \n",
    "\n",
    "Esta alternativa es útil para análisis exploratorios rápidos, ya que evita la necesidad de agrupar manualmente los datos o construir listas de valores por categoría. Resulta especialmente conveniente cuando se trabaja con estructuras tabulares como DataFrame.\n",
    "\n",
    "Sin embargo, los métodos de <code>pandas</code> tienen un nivel de personalización limitado en comparación con <code>matplotlib.pyplot</code>. Cuando se requiere un mayor control sobre el estilo de la gráfica, como cambiar colores, añadir anotaciones o modificar etiquetas, es recomendable usar directamente las funciones de <code>matplotlib</code>, o bien combinar ambos enfoques: generar la gráfica con pandas y luego ajustarla con funciones adicionales de <code>matplotlib</code>, ya que ambas bibliotecas son completamente compatibles.\n",
    "\n",
    "</div>"
   ]
  },
  {
   "cell_type": "markdown",
   "id": "33613005",
   "metadata": {},
   "source": [
    "## La función hist\n",
    "\n",
    "La función `matplotlib.pyplot.hist()` permite crear un **histograma**, que representa la **distribución de frecuencias** de un conjunto de datos numéricos dividiéndolos en intervalos o “bins”.\n",
    "\n",
    "`matplotlib.pyplot.hist()` recibe como entrada una lista o array de valores numéricos y muestra cuántos datos caen dentro de cada rango. Como ejemplo, podemos visualizar la distribución de edades en el conjunto de datos."
   ]
  },
  {
   "cell_type": "code",
   "execution_count": null,
   "id": "9150acb1",
   "metadata": {
    "scrolled": true
   },
   "outputs": [],
   "source": [
    "# Histograma que muestra la distribución de frecuencias de la columna 'Age'\n",
    "\n",
    "edades = dataCancer['Age']\n",
    "matplotlib.pyplot.hist(edades, bins=40, color='skyblue', edgecolor='black')\n",
    "matplotlib.pyplot.show()"
   ]
  },
  {
   "cell_type": "markdown",
   "id": "fd99717d",
   "metadata": {},
   "source": [
    "El histograma muestra la distribución de frecuencias de la columna **edad**. El eje X representa los rangos de edad, de 30 a 70 años, y el eje Y indica la cantidad de pacientes en cada intervalo. En este caso, se observa que la frecuencia de casos comienza a aumentar a partir de los 40 años, con un incremento más notable alrededor de los 45 años."
   ]
  },
  {
   "cell_type": "markdown",
   "id": "89f45111",
   "metadata": {},
   "source": [
    "## Tu gráfica también necesita presentación (Agrega título, ejes y leyendas)"
   ]
  },
  {
   "cell_type": "markdown",
   "id": "82f18e05",
   "metadata": {},
   "source": [
    "Así como una buena exposición necesita una introducción y contexto, una gráfica clara también debe incluir un título, etiquetas en los ejes y una leyenda. En esta sección, veremos algunas funciones básicas que te permitirán agregar estos elementos y mejorar la presentación de tus gráficas, haciéndolas más comprensibles y efectivas."
   ]
  },
  {
   "cell_type": "markdown",
   "id": "97ca7217",
   "metadata": {},
   "source": [
    "### 🎨 Algunas funciones para mejorar la presentación de una gráfica son:\n",
    "\n",
    "| Función                                 | ¿Qué hace?                                                            |\n",
    "|:--------------------------------------  |:----------------------------------------------------------------------|\n",
    "|   `matplotlib.pyplot.title(\"Texto\")`    | Agrega un **título** en la parte superior de la gráfica.              |\n",
    "|   `matplotlib.pyplot.xlabel(\"Texto\")`   | Coloca una **etiqueta en el eje X** (horizontal).                     |\n",
    "|   `matplotlib.pyplot.ylabel(\"Texto\")`   | Coloca una **etiqueta en el eje Y** (vertical).                       |\n",
    "|   `matplotlib.pyplot.grid(True)`        | Muestra una **cuadrícula** de fondo para facilitar la lectura.        |\n",
    "|   `matplotlib.pyplot.legend()`          | Muestra la **leyenda** cuando hay más de una línea o categoría.          |\n"
   ]
  },
  {
   "cell_type": "markdown",
   "id": "9db27d65",
   "metadata": {},
   "source": [
    "Cada una de estas funciones cuenta con diversos parámetros que permiten modificar características como el color, el estilo y otros aspectos visuales. Por ejemplo, en `matplotlib.pyplot.title()` puedes cambiar el color del título con `color='red'` o ajustar el tamaño de la fuente con `fontsize=16`. \n",
    "\n",
    "Para conocer todos los parámetros disponibles, puedes consultar la ayuda usando, por ejemplo:"
   ]
  },
  {
   "cell_type": "code",
   "execution_count": null,
   "id": "be9e3820",
   "metadata": {},
   "outputs": [],
   "source": [
    "help(matplotlib.pyplot.boxplot)"
   ]
  },
  {
   "cell_type": "markdown",
   "id": "129cf13d",
   "metadata": {},
   "source": [
    "Retomando la gráfica de boxplot, realizaremos algunas modificaciones con el objetivo de mejorar su claridad y presentación visual."
   ]
  },
  {
   "cell_type": "code",
   "execution_count": null,
   "id": "d0588e78",
   "metadata": {},
   "outputs": [],
   "source": [
    "# Gráfico de cajas (boxplot) para comparar la distribución del tamaño del tumor entre los grados 1 y 3, \n",
    "# con modificaciones como títulos, etiquetas de los ejes y cuadrícula (grid)\n",
    "\n",
    "import matplotlib.pyplot\n",
    "\n",
    "# Filtrar los tamaños del tumor por grado\n",
    "tumores_grado1 = dataCancer[dataCancer['Grade'] == \"1\"]['Tumor Size']\n",
    "tumores_grado3 = dataCancer[dataCancer['Grade'] == \"3\"]['Tumor Size']\n",
    "\n",
    "# Crear el boxplot\n",
    "matplotlib.pyplot.boxplot([tumores_grado1, tumores_grado3])\n",
    "\n",
    "# Aplicar mejoras de presentación\n",
    "matplotlib.pyplot.title(\"Distribución del tamaño del tumor según el grado\", fontsize=14, color='darkblue', fontstyle='italic')  # Título \n",
    "matplotlib.pyplot.xlabel(\"Grado del tumor\", fontsize=12)  # Etiqueta del eje X\n",
    "matplotlib.pyplot.ylabel(\"Tamaño del tumor (mm)\", fontsize=12)  # Etiqueta del eje Y\n",
    "matplotlib.pyplot.grid(True, linestyle='--', alpha=0.6)  # Cuadrícula\n",
    "matplotlib.pyplot.show()\n"
   ]
  },
  {
   "cell_type": "markdown",
   "id": "7629ea2f",
   "metadata": {},
   "source": [
    "Estas mejoras incluyen la incorporación de un título descriptivo, etiquetas en los ejes para contextualizar los datos, y una cuadrícula de fondo que facilite la lectura de los valores. Aplicar estos elementos no solo mejora la estética de la gráfica, sino que también permite una interpretación más rápida y precisa de la información representada."
   ]
  },
  {
   "cell_type": "markdown",
   "id": "702c5e39",
   "metadata": {},
   "source": [
    "<div style=\"\n",
    "  border-left: 8px solid #6a0dad;\n",
    "  background-color: #f8f9fa;\n",
    "  padding: 20px;\n",
    "  margin-bottom: 20px;\n",
    "  font-family: sans-serif;\n",
    "  box-shadow: 0 2px 4px rgba(0,0,0,0.1);\n",
    "\">\n",
    "\n",
    "  <h2 style=\"margin-top: 0;\">Nota </h2>\n",
    "\n",
    "  <p>\n",
    "      Las funciones que agregan texto a la gráfica, como <code>matplotlib.pyplot.title()</code>, <code>matplotlib.pyplot.xlabel()</code> y <code>matplotlib.pyplot.ylabel()</code>, permiten personalizar la apariencia del texto mediante parámetros como <code>fontsize</code>, <code>color</code>, <code>fontstyle</code>, entre otros. Una forma organizada de manejar estos parámetros es agruparlos en un diccionario llamado <code>fontdict</code>. Esto permite reutilizar el mismo estilo de fuente en distintas partes del gráfico y mantener el código más limpio y legible.\n",
    "\n",
    "A continuación se muestra el diccionario con el estilo de fuente y cómo se aplica en el título de la gráfica:\n",
    "  </p>\n",
    "      <hr style=\"border: 0; height: 1px; background-color: #ccc; margin: 20px 0;\" />\n",
    "\n",
    "  <pre style=\"\n",
    "    background-color: #ffffff;\n",
    "    color: #000000;\n",
    "    border: 1px solid #ccc;\n",
    "    padding: 10px;\n",
    "    border-radius: 4px;\n",
    "    font-family: monospace;\n",
    "    font-size: 14px;\n",
    "  \"><code>\n",
    "  fontEstilo = {\n",
    "    'fontsize': 14,\n",
    "    'color': 'darkblue',\n",
    "    'fontstyle': 'italic'\n",
    "  }\n",
    "  \n",
    "  matplot.pyplot.title(\"Distribución del tamaño del tumor según el grado\", fontdict=fontEstilo)\n",
    "</code></pre>\n",
    "     \n",
    "</div>"
   ]
  },
  {
   "cell_type": "markdown",
   "id": "39d484ce",
   "metadata": {},
   "source": [
    "## Agrupando gráficos\n",
    "\n",
    "Es posible agrupar varios gráficos relacionados en una sola figura utilizando subgráficos o `subplots`. Para ello, `matplotlib` proporciona herramientas específicas que permiten organizar **múltiples visualizaciones dentro de una misma figura**.\n",
    "\n",
    "Una forma práctica de hacerlo es mediante la función `matplotlib.pyplot.subplots()`. Esta función permite crear una figura junto con una estructura de ejes organizados en filas y columnas. Retorna dos objetos: la figura (fig) y un conjunto de ejes (ax), los cuales pueden ser manipulados individualmente para personalizar cada gráfico.\n",
    "\n",
    "El parámetro `figsize` permite definir el tamaño total de la figura (ancho y alto, en pulgadas), mientras que los parámetros `nrows` y `ncols` indican la cantidad de filas y columnas de subgráficos que se desean crear.\n",
    "\n",
    "Cada subgráfico puede ser accedido a través del arreglo de ejes y modificado de forma independiente utilizando métodos como `set_xlabel()` o `set_ylabel()`.\n",
    "\n",
    "A continuación, se muestran juntos los tres gráficos generados previamente, con el propósito de ilustrar estos conceptos. Es importante mencionar que existen diversas formas de realizar esta tarea, y `subplots()` es una de las más recomendadas por su claridad y flexibilidad en la manipulación de múltiples gráficos."
   ]
  },
  {
   "cell_type": "code",
   "execution_count": null,
   "id": "148920a2",
   "metadata": {},
   "outputs": [],
   "source": [
    "# Crear una figura con tres gráficas en una fila para visualizar distintas características de los datos,\n",
    "# usando las tres gráficas anteriores.\n",
    "\n",
    "import pandas\n",
    "import matplotlib.pyplot\n",
    "\n",
    "dataCancer = pandas.read_csv('DataSet/3_Breast_Cancer.csv')\n",
    "\n",
    "# subplots crea automáticamente la figura y los ejes\n",
    "fig, axs = matplotlib.pyplot.subplots(nrows=1, ncols=3, figsize=(9, 3))\n",
    "\n",
    "# Promedio del tamaño del tumor por estadío clínico (6th_Satge)\n",
    "avr_TumSiz = dataCancer.groupby('6th Stage')['Tumor Size'].mean()\n",
    "axs[0].plot(avr_TumSiz)\n",
    "axs[0].set_ylabel('Tamaño del tumor')\n",
    "axs[0].set_xlabel('Estadío clínico')\n",
    "\n",
    "# Distribución de tamaño de tomor entte grupo 1 y 3\n",
    "# Filtrar los tamaños del tumor por grado\n",
    "tumores_grado1 = dataCancer[dataCancer['Grade'] == \"1\"]['Tumor Size']\n",
    "tumores_grado3 = dataCancer[dataCancer['Grade'] == \"3\"]['Tumor Size']\n",
    "\n",
    "axs[1].boxplot([tumores_grado1, tumores_grado3],labels=['Grado 1', 'Grado 3'])\n",
    "axs[1].set_ylabel('Tamaño del tumor')\n",
    "\n",
    "# Histograma con la distribución de frecuencias de la columna edad\n",
    "edades = dataCancer['Age']\n",
    "axs[2].hist(edades, bins=40, color='skyblue', edgecolor='black')\n",
    "axs[2].set_ylabel('Frecuencia')\n",
    "axs[2].set_xlabel('Edad')\n",
    "\n",
    "\n",
    "fig.patch.set_facecolor('aliceblue')\n",
    "# Título general (debe ir antes o con rect= para no solaparse)\n",
    "fig.suptitle(\"Visualización de características del cáncer de mama\", fontsize=14)\n",
    "axs[0].set_facecolor('beige')\n",
    "axs[1].set_title(\"boxplot\", fontsize=12)\n",
    "\n",
    "\n",
    "fig.tight_layout()\n",
    "\n",
    "matplotlib.pyplot.savefig('CancerGraphGroup.png')\n",
    "matplotlib.pyplot.show()\n",
    "\n"
   ]
  },
  {
   "cell_type": "markdown",
   "id": "fe1c1d61",
   "metadata": {},
   "source": [
    "En el código anterior, se utilizan algunas funciones que ayudan a mejorar la apariencia de los gráficos. Algunas de estas funciones permiten modificar la figura completa, por ejemplo, para agregar un título general (`fig.suptitle`) o ajustar automáticamente la distribución de las subgráficas (`fig.tight_layout`). Otras se aplican a gráficos individuales, como cambiar el fondo de un subgráfico (`axs[0].set_facecolor`) o ponerle un título propio (`axs[1].set_title`).\n",
    "\n",
    "Estas opciones hacen que las visualizaciones sean más claras, organizadas y agradables a la vista. A continuación, se muestra una tabla con algunas de las funciones más útiles para personalizar gráficos en Matplotlib.\n",
    "\n",
    "\n",
    "### 🎨 Algunas funciones para modificar el aspectos estéticos de la figura\n",
    "\n",
    "| Función / Método                         | ¿Se aplica a...? | ¿Qué hace?                                                                 |\n",
    "|:----------------------------------------|:------------------|:---------------------------------------------------------------------------|\n",
    "| `fig.suptitle(\"texto\")`                 | Figura            | Agrega un **título general** a toda la figura.                            |\n",
    "| `fig.patch.set_facecolor('color')`      | Figura            | Cambia el **color de fondo** de toda la figura.                           |\n",
    "| `fig.patch.set_edgecolor('color')`      | Figura            | Cambia el **color del borde exterior** de la figura.                      |\n",
    "| `fig.patch.set_alpha(valor)`            | Figura            | Ajusta la **transparencia** del fondo de la figura (valor entre 0 y 1).   |\n",
    "| `fig.tight_layout(rect=[...])`          | Figura            | Ajusta automáticamente la distribución de subgráficos para evitar solapamientos. |\n",
    "| `fig.set_linewidth(valor)`              | Figura            | Cambia el **grosor del borde** exterior de la figura.                    |\n",
    "| `ax.set_facecolor('color')`             | Eje (subplot)     | Cambia el **color de fondo** del área de un subgráfico.                  |\n",
    "| `ax.set_title(\"texto\", fontsize=...)`   | Eje (subplot)     | Agrega un **título local** al subgráfico con opciones de estilo.         |\n",
    "     |\n"
   ]
  },
  {
   "cell_type": "markdown",
   "id": "e39339c1",
   "metadata": {},
   "source": [
    "La función `savefig()` permite **guardar una gráfica como un archivo de imagen**. Esta es una manera práctica de conservar tus visualizaciones para incluirlas en documentos, presentaciones, páginas web, entre otros usos.\n",
    "\n",
    "El **formato del archivo se determina automáticamente** según la extensión que se le dé al nombre del archivo; por ejemplo, en `CancerGraphGroup.png`, el gráfico se guarda en formato PNG.\n",
    "\n",
    "Matplotlib es compatible con varios formatos gráficos, como **PNG**, **SVG**, **PDF** y **JPEG**, entre otros.\n"
   ]
  },
  {
   "cell_type": "markdown",
   "id": "e516626a",
   "metadata": {},
   "source": [
    "<div style=\"\n",
    "  border-left: 8px solid  #FFDE21;\n",
    "  background-color: #ffffff;\n",
    "  padding: 20px;\n",
    "  margin-bottom: 20px;\n",
    "  font-family: sans-serif;\n",
    "  box-shadow: 0 2px 4px rgba(0,0,0,0.1);\n",
    "\">\n",
    "\n",
    "  <h2 style=\"margin-top: 0;\"> 🔔 Importar bibliotecas usando atajos </h2>\n",
    "\n",
    "  <p>\n",
    "      En esta lección usamos la instrucción <code>import matplotlib.pyplot</code> para importar el módulo <code>pyplot</code> de <code>matplotlib</code>. Sin embargo, es muy común utilizar <strong>atajos</strong> como <code>import matplotlib.pyplot as plt</code>. Esto permite usar funciones de forma más breve, por ejemplo: en lugar de escribir <code>matplotlib.pyplot.plot(...)</code>, se puede usar simplemente <code>plt.plot(...)</code>.\n",
    "\n",
    "Otro caso frecuente es <code>import pandas as pd</code>, lo cual permite escribir <code>pd.read_csv(...)</code> en lugar de <code>pandas.read_csv(...)</code>.\n",
    "\n",
    "Este tipo de atajos hace que el código sea <strong>más corto y fácil de escribir</strong>, especialmente cuando se trabaja con bibliotecas de nombres largos. Por eso, es habitual ver en ejemplos de Python el uso de <code>plt</code>, <code>np</code>, <code>pd</code>, entre otros.\n",
    "\n",
    "Lo importante es ser <strong>consistente</strong>: si decides usar as <code>plt</code>, entonces debes usar <code>plt.plot(...)</code> y no <code>matplotlib.pyplot.plot(...)</code>, ya que este último no funcionará. Además, cuando se colabora en equipo, es recomendable acordar entre todos la forma de importar las bibliotecas.\n",
    "  </p>\n",
    "     \n",
    "</div>"
   ]
  },
  {
   "cell_type": "markdown",
   "id": "b5ecc0b1-2966-4e80-88f1-00b9718b5427",
   "metadata": {},
   "source": [
    "<a name=\"EjVDT\"></a>\n",
    "<div style=\"\n",
    "  background-color: #ADEBB3;\n",
    "  padding: 20px;\n",
    "  margin-bottom: 20px;\n",
    "  font-family: sans-serif;\n",
    "  box-shadow: 0 2px 4px rgba(0,0,0,0.1);\n",
    "\">\n",
    "\n",
    "  <h2 style=\"margin-top: 0;color:#003049;\">Ejercicios propuestos</h2>\n",
    "\n",
    "</div>\n"
   ]
  },
  {
   "cell_type": "markdown",
   "id": "a32689ed",
   "metadata": {},
   "source": [
    "## ¿Qué es bins?\n",
    "\n",
    "En el siguiente programa:\n",
    "\n",
    "```python\n",
    "matplotlib.pyplot.hist(data, bins=10)\n",
    "```\n",
    "¿Qué efecto tiene el parámetro `bins` en el histograma?\n",
    "\n",
    "1. Define el número de categorías del eje X\n",
    "2. Cambia el tamaño de las barras\n",
    "3. Determina cuántos intervalos se usarán para agrupar los datos\n",
    "4. Establece el color de las barras\n",
    "\n",
    "<div>\n",
    "  <a href=\"#VDT1\">Respuesta</a>\n",
    "</div>"
   ]
  },
  {
   "cell_type": "markdown",
   "id": "19814337",
   "metadata": {},
   "source": [
    "## El lienzo en Matplotlib: tamaño y distribución\n",
    "\n",
    "¿Qué hace el código respecto al diseño de la figura?\n",
    "\n",
    "```python\n",
    "fig, axs = matplotlib.pyplot.subplots(2, 1, figsize=(6, 8))\n",
    "````\n",
    "\n",
    "1. Crea una figura con dos subgráficas horizontales en una figura de 6x8 cm\n",
    "1. Crea una figura con dos subgráficas verticales y tamaño 6x8 pulgadas\n",
    "1. Establece dos figuras separadas con un mismo tamaño\n",
    "1. Crea dos gráficos superpuestos en un solo Axes\n",
    "\n",
    "<div>\n",
    "  <a href=\"#VDT2\">Respuesta</a>\n",
    "</div>"
   ]
  },
  {
   "cell_type": "markdown",
   "id": "3430fe24",
   "metadata": {},
   "source": [
    "## Ajustando el tamaño del título\n",
    "\n",
    "¿Qué parámetro se usa para personalizar el tamaño del texto del título?\n",
    "\n",
    "1. `fontsize`\n",
    "1. `textsize`\n",
    "1. `titlesize`\n",
    "1. `labelsize`\n",
    "\n",
    "<div>\n",
    "  <a href=\"#VDT3\">Respuesta</a>\n",
    "</div>"
   ]
  },
  {
   "cell_type": "markdown",
   "id": "57b4690e",
   "metadata": {},
   "source": [
    "## Desplazando las gráficas agrupadas\n",
    "\n",
    "Modifica el último programa para que los tres gráficos se desplieguen en forma vertical, en lugar de en línea horizontal.\n",
    "\n",
    "<div>\n",
    "  <a href=\"#VDT4\">Respuesta</a>\n",
    "</div>"
   ]
  },
  {
   "cell_type": "markdown",
   "id": "8fa69c8f",
   "metadata": {},
   "source": [
    "## ¿Qué tan frecuente?\n",
    "\n",
    "Genera una gráfica de histograma para visualizar la frecuencia de los tamaños de tumor.\n",
    "\n",
    "<div>\n",
    "  <a href=\"#VDT5\">Respuesta</a>\n",
    "</div>"
   ]
  },
  {
   "cell_type": "markdown",
   "id": "fbff29ce-05bc-48ec-b7ef-2f2976fb42fb",
   "metadata": {},
   "source": [
    "<a name=\"PClave1\"></a>\n",
    "<div style=\"\n",
    "  background-color: #d1ecf1;\n",
    "  padding: 20px;\n",
    "  margin-bottom: 20px;\n",
    "  font-family: sans-serif;\n",
    "  box-shadow: 0 2px 4px rgba(0,0,0,0.1);\n",
    "\">\n",
    "    \n",
    "<h2 style=\"margin-top: 0;color: #0c5460;\">Puntos clave</h2>\n",
    "\n",
    "1. Para crear visualizaciones sencillas, utiliza el módulo `pyplot` de la biblioteca `matplotlib`.  \n",
    "1. Construye diferentes tipos de gráficas como `plot()`, `hist()` y `boxplot()` para representar datos numéricos.  \n",
    "1. Aplica elementos básicos de estética —títulos, etiquetas de ejes, colores y leyendas— para que las gráficas sean más comprensibles.  \n",
    "1. Para ver la **distribución los datos**, utiliza gráficas como un **histograma** o un **boxplot**.  \n",
    "1. Usa `matplotlib.pyplot.subplots()` para organizar múltiples gráficas dentro de una misma figura cuando quieras crear gráficas agrupadas.  \n",
    "1. Ten en cuenta la diferencia entre **figure**, **axes** y la gráfica misma dentro de la estructura de `matplotlib` para manejar mejor tus visualizaciones.  \n",
    "\n",
    "</div>\n",
    "<div style=\"text-align: right;\">\n",
    "  <a href=\"#Índice\">Regresar al Índice</a>\n",
    "</div>"
   ]
  },
  {
   "cell_type": "markdown",
   "id": "9a270298",
   "metadata": {},
   "source": [
    "\n",
    "<hr style=\"border: 0; height: 5px; background-color: #ccc; margin: 50px 0;\" />\n"
   ]
  },
  {
   "cell_type": "markdown",
   "id": "f24fdfbd",
   "metadata": {},
   "source": [
    "<img src=\"img/logoprincipal_TIB.png\"/>"
   ]
  },
  {
   "cell_type": "markdown",
   "id": "3c64844e-5ea3-4e41-93a3-96c8925c490e",
   "metadata": {},
   "source": [
    "<center>\n",
    "            Lección tomada, traducida y modificada de <a href=\"https://swcarpentry.github.io/python-novice-inflammation/07-cond.html\" target=\"_blank\">python-novice-inflammation, lección 7</a>\n",
    "        </center>"
   ]
  },
  {
   "cell_type": "markdown",
   "id": "6f99454c-5aae-412c-9459-d2f019b55f58",
   "metadata": {},
   "source": [
    "# Tomando decisiones"
   ]
  },
  {
   "cell_type": "markdown",
   "id": "e0da807d",
   "metadata": {},
   "source": [
    "## Pregunta:\n",
    "\n",
    "> ¿Cómo pueden mis programas hacer cosas diferentes en función de los valores de los datos?\n",
    "\n",
    "## Objetivos:\n",
    "> + Escribir enunciados condicionales que incluyan `if`, `elif` y `else`\n",
    "> + Evaluar correctamente expresiones que contengan `and` y `or`\n",
    "\n",
    "<div style=\"text-align: right;\">\n",
    "  <a href=\"#Índice\">Regresar al Índice</a>\n",
    "</div>"
   ]
  },
  {
   "cell_type": "markdown",
   "id": "1b5126ec-c704-4bd8-9023-aa1afb759c90",
   "metadata": {},
   "source": [
    "En la lección anterior, utilizamos gráficas básicas para analizar la distribución de nuestros datos de pacientes con cáncer y detectar posibles patrones clínicos. Pero, ¿cómo podemos hacer que Python reconozca automáticamente ciertas características dentro de esos datos y actúe de forma diferente según cada caso?\n",
    "En esta lección aprenderemos a utilizar **estructuras condicionales** como `if` y `else`, que permitan a nuestro código **tomar decisiones** basadas en los valores reales del conjunto de datos. Esto nos permitirá, por ejemplo, comparar grupos de pacientes o evaluar si ciertas condiciones afectan la supervivencia."
   ]
  },
  {
   "cell_type": "markdown",
   "id": "9fe44e18-da7d-4805-9165-4396df5bf99c",
   "metadata": {},
   "source": [
    "## Condicionales\n",
    "\n",
    "Para que Python pueda responder automáticamente ante distintas situaciones en los datos, necesitamos enseñarle a tomar decisiones. Esto se logra mediante el uso de **sentencias condicionales**, que permiten ejecutar instrucciones **solo si se cumple cierta condición**.\n",
    "La forma más sencilla de hacerlo es usando `if`, que evalúa una condición lógica. Si la condición es verdadera, se ejecuta el bloque de código correspondiente; si no lo es, podemos usar else para definir una alternativa.\n",
    "Esto nos permite escribir programas que **no siempre hagan lo mismo**, sino que se adapten al valor de las variables.\n",
    "Veamos un ejemplo muy simple que pregunta si un número es mayor que 100:"
   ]
  },
  {
   "cell_type": "code",
   "execution_count": null,
   "id": "c0e84a16-198f-407b-87da-3d3127b9ebc2",
   "metadata": {},
   "outputs": [],
   "source": [
    "# Verificar si un número es mayor que 100.  \n",
    "# Si lo es, imprimir \"greater\"; de lo contrario, imprimir \"not greater\".  \n",
    "# Al final, imprimir siempre \"done\".\n",
    "\n",
    "import random\n",
    "\n",
    "# Generar un número aleatorio entre 1 y 200\n",
    "num = random.randint(1, 200)\n",
    "print(\"Generated number:\", num)\n",
    "\n",
    "if num > 100:\n",
    "    print('greater')\n",
    "else:\n",
    "    print('not greater')\n",
    "print('done')"
   ]
  },
  {
   "cell_type": "markdown",
   "id": "05dbff17-4626-40c8-b541-7e797706023c",
   "metadata": {},
   "source": [
    "La línea 11 del código usa la palabra clave `if` para indicarle a Python que debe tomar una decisión.\n",
    "Si la condición que sigue a `if` es verdadera, se ejecuta su bloque (es decir, las líneas indentadas justo debajo) y se imprime **greater**.\n",
    "Si la condición es falsa, se ejecuta el bloque del `else` y se imprime **not greater**.\n",
    "En cada ejecución, **solo uno de los dos bloques se ejecuta**, y luego el programa continúa con la siguiente línea, que imprime **done**."
   ]
  },
  {
   "cell_type": "markdown",
   "id": "18a4e12c-96e4-454c-9ed9-f1784595268c",
   "metadata": {},
   "source": [
    "<figure>\n",
    "    <center><img src=\"img/IfElse.png\" width=400 height=500 /></center>\n",
    "    <figcaption>\n",
    "        <center>\n",
    "            Imagen obtenida de <a href=\"https://swcarpentry.github.io/python-novice-inflammation/07-files.html\" target=\"_blank\">python-novice-inflammation, lección 7</a>\n",
    "        </center>\n",
    "    </figcaption>\n",
    "</figure>"
   ]
  },
  {
   "cell_type": "markdown",
   "id": "c3a4bd47",
   "metadata": {},
   "source": [
    "Las sentencias condicionales en Python **no siempre requieren un bloque** `else`. Si no incluyes un `else`, simplemente significa que **cuando la condición es falsa, Python no ejecuta ninguna acción dentro del bloque del** `if` **y continúa con el resto del código.**\n",
    "\n",
    "Por ejemplo, observemos el siguiente código:"
   ]
  },
  {
   "cell_type": "code",
   "execution_count": null,
   "id": "3b446845-7640-4f14-9d2b-07cbb423ab8a",
   "metadata": {},
   "outputs": [],
   "source": [
    "# Condicional sin else:\n",
    "# Imprime \"Antes de la condición...\" antes de evaluar la condición.\n",
    "# Si num es mayor que 100, imprime que num es mayor que 100.\n",
    "# Finalmente, imprime \"...después de la condición\" al salir del condicional.\n",
    "\n",
    "num = random.randint(1, 200)\n",
    "print('Antes de la condición...')\n",
    "if num > 100:\n",
    "    print(num, 'es mayor que 100')\n",
    "print('...después de la condición')"
   ]
  },
  {
   "cell_type": "markdown",
   "id": "a88166d7-4c9c-464b-accd-8f584206a3d3",
   "metadata": {},
   "source": [
    "También podemos encadenar varias condiciones usando la palabra clave `elif`, que es una abreviatura de **\"else if\"**. Esto nos permite verificar múltiples casos de manera ordenada, sin necesidad de escribir múltiples bloques `if` independientes.\n",
    "\n",
    "Por ejemplo, el siguiente código usa `if`, `elif` y `else` para determinar si un número es positivo, cero o negativo:"
   ]
  },
  {
   "cell_type": "code",
   "execution_count": null,
   "id": "b3b6a818-dec5-4a69-9c05-4c7a43e26014",
   "metadata": {},
   "outputs": [],
   "source": [
    "# Condicional para verificar si un número es positivo, cero o negativo\n",
    "\n",
    "num = random.randint(-100, 100)\n",
    "print(num)\n",
    "\n",
    "if num > 0:\n",
    "    print(num, 'es positivo')\n",
    "elif num == 0:\n",
    "    print(num, 'es cero')\n",
    "else:\n",
    "    print(num, 'es negativo')"
   ]
  },
  {
   "cell_type": "markdown",
   "id": "7da91688-bb8c-40bb-bb45-a5b789ac9c2c",
   "metadata": {},
   "source": [
    "<div style=\"border-left: 8px solid #6a0dad; background-color: #f8f9fa; padding: 20px; margin-bottom: 20px; font-family: sans-serif;\">\n",
    "  <h3>Nota</h3>\n",
    "  <p>\n",
    "    Es importante tener en cuenta que, <strong>para comprobar la igualdad, utilizamos el signo de igualdad doble <code>==</code></strong>, en lugar del signo de igualdad simple <code>=</code>, que se usa para asignar valores.\n",
    "  </p>\n",
    "</div>\n",
    "\n"
   ]
  },
  {
   "cell_type": "markdown",
   "id": "62dd4779-3f78-4ff4-aa70-d76c956d0546",
   "metadata": {},
   "source": [
    "## Operadores relacionales y lógicos\n",
    "\n",
    "Además de los operadores `>` y `==`, que ya hemos utilizado para comparar valores en nuestras sentencias condicionales, existen otros operadores de comparación importantes que conviene conocer. Estos operadores permiten evaluar diferentes relaciones entre valores y son muy útiles para tomar decisiones en el código.\n",
    "\n",
    "| Operador | Significado           |\n",
    "|----------|----------------------|\n",
    "| >        | mayor que            |\n",
    "| <        | menor que            |\n",
    "| ==       | igual                |\n",
    "| !=       | diferente            |\n",
    "| >=       | mayor o igual que    |\n",
    "| <=       | menor o igual que    |\n"
   ]
  },
  {
   "cell_type": "markdown",
   "id": "fb80e71e-8f7a-4ab3-8e99-a3df0f27acca",
   "metadata": {},
   "source": [
    "También podemos combinar varias condiciones utilizando los operadores lógicos `and` y `or`.\n",
    "\n",
    "El operador `and` devuelve **verdadero solo si ambas condiciones son verdaderas**; si alguna es falsa, el resultado es falso. Por ejemplo:"
   ]
  },
  {
   "cell_type": "code",
   "execution_count": null,
   "id": "0f1eaf12-3327-4e6f-8e18-207dfa1d174f",
   "metadata": {},
   "outputs": [],
   "source": [
    "# Caso donde ambas condiciones son verdaderas\n",
    "if (5 > 0) and (3 >= 0):\n",
    "    print('Ambas expresiones son verdaderas')\n",
    "else:\n",
    "    print('Al menos una expresión es falsa')\n",
    "\n",
    "    \n",
    "# Caso donde una de las condiciones es falsa\n",
    "if (1 > 0) and (-1 >= 0):\n",
    "    print('Ambas expresiones son verdaderas')\n",
    "else:\n",
    "    print('Al menos una expresión es falsa')"
   ]
  },
  {
   "cell_type": "markdown",
   "id": "07b07273-1ff5-4441-9c66-3ea213fd9186",
   "metadata": {},
   "source": [
    "mientras que el operador `or` es **verdadero si al menos una de las condiciones es verdadera**. "
   ]
  },
  {
   "cell_type": "code",
   "execution_count": null,
   "id": "20f51e51-0371-4b6c-bdf2-873300ed744c",
   "metadata": {},
   "outputs": [],
   "source": [
    "# Caso donde ambas condiciones son verdaderas\n",
    "if (5 > 0) or (3 >= 0):\n",
    "    print('Ambas expresiones son verdaderas')\n",
    "else:\n",
    "    print('Al menos una expresión es falsa')\n",
    "\n",
    "\n",
    "# Caso donde solo una de las condiciones es verdadera\n",
    "if (1 < 0) or (1 >= 0):\n",
    "    print('al menos un enunciado es verdadero')"
   ]
  },
  {
   "cell_type": "markdown",
   "id": "fd5e8145-a874-4ece-94c8-3adf60f2eddb",
   "metadata": {},
   "source": [
    "<div style=\"border-left: 8px solid #6a0dad; background-color: #f8f9fa; padding: 20px; margin-bottom: 20px; font-family: sans-serif;\">\n",
    "  <h3>True y False</h3>\n",
    "  <p>\n",
    "    <code>True</code> y <code>False</code> son palabras especiales en Python llamadas <strong>booleanos</strong>, que representan valores de verdad. Una sentencia como 1 < 0 devuelve el valor <code>False</code>, mientras que -1 < 0 devuelve el valor <code>True</code>\n",
    "  </p>\n",
    "</div>"
   ]
  },
  {
   "cell_type": "markdown",
   "id": "c68d5d7a-54a6-43f8-bc14-8508d97b37ff",
   "metadata": {},
   "source": [
    "## Trabajando con nuestros datos\n",
    "\n",
    "Ahora que entendemos cómo funcionan los condicionales en Python, podemos utilizarlos para examinar posibles diferencias entre grupos dentro de nuestros datos. En este caso, vamos a analizar si existe una diferencia en el tamaño promedio del tumor según la raza del paciente. Para ello, utilizaremos funciones básicas de `pandas` junto con sentencias `if-else`, sin recurrir a bibliotecas adicionales. Este análisis nos permitirá identificar si alguno de los grupos raciales registrados presenta, en promedio, tumores de mayor tamaño."
   ]
  },
  {
   "cell_type": "code",
   "execution_count": null,
   "id": "7244078d-9f20-400e-8e08-909a7f8142c2",
   "metadata": {},
   "outputs": [],
   "source": [
    "import pandas\n",
    "\n",
    "# Leer los datos\n",
    "dataCancer = pandas.read_csv('DataSet/3_Breast_Cancer.csv')"
   ]
  },
  {
   "cell_type": "markdown",
   "id": "914c6297-b1ba-487e-ac05-126fa77c5e1b",
   "metadata": {},
   "source": [
    "Luego de leer los datos, agrupamos por la columna **Race** y calculamos el tamaño promedio del tumor (**Tumor_Size**) en cada grupo racial usando `groupby()` y `mean()`. Esto genera una Serie de Pandas donde cada raza se asocia a su promedio correspondiente. Después, extraemos los valores de las razas **'White'** y **'Black'** con el método `.get()`, que nos permite acceder a esos datos de forma segura, incluso si alguna raza no está presente en el conjunto."
   ]
  },
  {
   "cell_type": "code",
   "execution_count": null,
   "id": "8d1dbfd5-6c36-441c-9dc6-105862b470ee",
   "metadata": {},
   "outputs": [],
   "source": [
    "# Obtener el tamaño promedio del tumor por raza\n",
    "promedios = df.groupby('Race')['Tumor Size'].mean()\n",
    "\n",
    "# Supongamos que solo hay 'White' y 'Black'\n",
    "prom_white = promedios.get('White', 0)\n",
    "prom_black = promedios.get('Black', 0)"
   ]
  },
  {
   "cell_type": "markdown",
   "id": "f4ede941-18d4-4991-b7d2-a5943eea5a65",
   "metadata": {},
   "source": [
    "A continuación, utilizamos una estructura `if-elif-else` para comparar ambos promedios y mostrar un mensaje que indique qué raza presenta. Esta comparación sencilla nos permite identificar posibles patrones en los datos de forma directa."
   ]
  },
  {
   "cell_type": "code",
   "execution_count": null,
   "id": "60a8db29-9c04-4aa1-8d61-6cda80ffa97f",
   "metadata": {},
   "outputs": [],
   "source": [
    "# Comparar el promedio del tamaño del tumor entre las razas 'White' y 'Black'\n",
    "\n",
    "if prom_white > prom_black:\n",
    "    print(\"La raza 'White' tiene un tumor promedio más grande.\")\n",
    "elif prom_white < prom_black:\n",
    "    print(\"La raza 'Black' tiene un tumor promedio más grande.\")"
   ]
  },
  {
   "cell_type": "markdown",
   "id": "9754ca05-669b-4109-add3-52c79df87b62",
   "metadata": {},
   "source": [
    "Y si no existe diferencia entre ellas, podemos utilizar **```else```** para indicarlo"
   ]
  },
  {
   "cell_type": "code",
   "execution_count": null,
   "id": "8cb6fac2-b5b2-4c76-96af-27b2b1416152",
   "metadata": {},
   "outputs": [],
   "source": [
    "# Considerar el caso en que no haya diferencia entre los promedios\n",
    "\n",
    "else:\n",
    "    print(\"Ambas razas tienen el mismo tamaño promedio de tumor.\")"
   ]
  },
  {
   "cell_type": "markdown",
   "id": "69ffc8c0-3032-4f9f-a0aa-b846af5f0c18",
   "metadata": {},
   "source": [
    "Vamos a probarlo:"
   ]
  },
  {
   "cell_type": "code",
   "execution_count": null,
   "id": "86d5671b-9479-4804-b82c-ac01a2ae6250",
   "metadata": {},
   "outputs": [],
   "source": [
    "import pandas\n",
    "\n",
    "# Leer el archivo CSV\n",
    "df = pandas.read_csv('DataSet/3_Breast_Cancer.csv')\n",
    "\n",
    "# Obtener el tamaño promedio del tumor por raza\n",
    "promedios = df.groupby('Race')['Tumor Size'].mean()\n",
    "\n",
    "\n",
    "# Supongamos que solo hay 'White' y 'Black'\n",
    "prom_white = promedios.get('White', 0)\n",
    "prom_black = promedios.get('Black', 0)\n",
    "\n",
    "# Comparar el promedio del tamaño del tumor entre las razas 'White' y 'Black'\n",
    "if prom_white > prom_black:\n",
    "    print(\"La raza 'White' tiene un tumor promedio más grande.\")\n",
    "elif prom_white < prom_black:\n",
    "    print(\"La raza 'Black' tiene un tumor promedio más grande.\")\n",
    "# Considerar el caso en que no haya diferencia entre los promedios\n",
    "else:\n",
    "    print(\"Ambas razas tienen el mismo tamaño promedio de tumor.\")\n"
   ]
  },
  {
   "cell_type": "markdown",
   "id": "3c1d5050-c26b-4c14-9808-1f74588e066b",
   "metadata": {},
   "source": [
    "De este modo, hemos indicado a Python que ejecute diferentes acciones según las condiciones de nuestros datos. En este caso, imprimimos un mensaje en cada posible escenario de comparación entre los tamaños promedio de tumor por raza"
   ]
  },
  {
   "cell_type": "markdown",
   "id": "2a0d83a0-5fd6-4841-8d2b-b730d7a3a0de",
   "metadata": {},
   "source": [
    "<a name=\"EjTD\"></a>\n",
    "<div style=\"\n",
    "  background-color: #ADEBB3;\n",
    "  padding: 20px;\n",
    "  margin-bottom: 20px;\n",
    "  font-family: sans-serif;\n",
    "  box-shadow: 0 2px 4px rgba(0,0,0,0.1);\n",
    "\">\n",
    "\n",
    "  <h2 style=\"margin-top: 0;color:#003049;\">Ejercicios propuestos</h2>\n",
    "\n",
    "</div>"
   ]
  },
  {
   "cell_type": "markdown",
   "id": "a59f2821-7ce9-4c18-85f1-8a74ca3863ab",
   "metadata": {},
   "source": [
    "## ¿Cuántos caminos?\n",
    "\n",
    "Considerando el siguiente código:\n",
    "\n",
    "```python\n",
    "if 4 > 5:\n",
    "    print('A')\n",
    "elif 4 == 5:\n",
    "    print('B')\n",
    "elif 4 < 5:\n",
    "    print('C')\n",
    "```\n",
    "\n",
    "¿Cuál de las siguientes respuestas se imprimiría si ejecutaras este código? ¿Por qué has elegido esta respuesta?\n",
    "\n",
    "1. A\n",
    "2. B\n",
    "3. C\n",
    "4. B y C\n",
    "\n",
    "<div>\n",
    "  <a href=\"#TD1\">Respuesta</a>\n",
    "</div>"
   ]
  },
  {
   "cell_type": "markdown",
   "id": "5a569fec-a6e6-44aa-870a-2b01762eef87",
   "metadata": {},
   "source": [
    "## ¿Qué es verdadero?\n",
    "\n",
    "Los valores booleanos **True** y **False** no son los únicos valores que se consideran como verdadero y falso en Python. De hecho, cualquier valor puede ser evaluado en un `if` o `elif`. Después de leer y ejecutar el código siguiente, explica cuál es la regla para los valores que se consideran verdaderos y los que se consideran falsos.\n",
    "\n",
    "<div>\n",
    "  <a href=\"#TD2\">Respuesta</a>\n",
    "</div>"
   ]
  },
  {
   "cell_type": "code",
   "execution_count": null,
   "id": "77cb7750-32cf-48f9-88dc-f7b8a343e190",
   "metadata": {},
   "outputs": [],
   "source": [
    "\n",
    "if '':\n",
    "    print('Cadena Vacía es TRUE')\n",
    "if 'word':\n",
    "    print('word es TRUE')\n",
    "if []:\n",
    "    print('lista vacía es TRUE')\n",
    "if [1, 2, 3]:\n",
    "    print('lista no vacía es TRUE')\n",
    "if 0:\n",
    "    print('cero es TRUE')\n",
    "if 1:\n",
    "    print('uno es TRUE')\n",
    "    "
   ]
  },
  {
   "cell_type": "markdown",
   "id": "d529130f-1472-4d83-bd0a-0de4bcae14f2",
   "metadata": {},
   "source": [
    "## Eso ```not```es lo que quise decir\n",
    "\n",
    "A veces es útil comprobar si alguna condición **no es verdadera**. El operador booleano `not` puede hacer esto explícitamente. Después de leer y ejecutar el código siguiente, escriba algunas sentencias `if` que utilicen `not` para comprobar la regla que formuló en el reto anterior."
   ]
  },
  {
   "cell_type": "code",
   "execution_count": null,
   "id": "40592a65-62a6-4d62-9660-970a00bdc78f",
   "metadata": {},
   "outputs": [],
   "source": [
    "if not '':\n",
    "    print('La cadena vacía NO es TRUE')\n",
    "if not 'word':\n",
    "    print('word NO es TRUE')\n",
    "if not not True:\n",
    "    print('not NO es TRUE')"
   ]
  },
  {
   "cell_type": "markdown",
   "id": "92034147",
   "metadata": {},
   "source": [
    "\n",
    "<div>\n",
    "  <a href=\"#TD3\">Respuesta</a>\n",
    "</div>"
   ]
  },
  {
   "cell_type": "markdown",
   "id": "77e5d273-37ea-4289-95ae-0db724053cac",
   "metadata": {},
   "source": [
    "## Demasiado cerca\n",
    "\n",
    "Escribe algunas condiciones que impriman **```True```** si la diferencia entre la variable **```a```** y **```b```** y es menor o igual al 10% y **```False```** en caso contrario. Compara tu aplicación con la de tu compañero: ¿obtienes la misma respuesta para todos los pares de números posibles?\n",
    "\n",
    "\n",
    "<div>\n",
    "  <a href=\"#TD4\">Respuesta</a>\n",
    "</div>"
   ]
  },
  {
   "cell_type": "markdown",
   "id": "fb4e5cd8",
   "metadata": {},
   "source": [
    "## Supervivencia por rango de edad\n",
    "\n",
    "Utilizando el archivo **3_Breast_Cancer.csv**, escribe un programa en Python que calcule y compare el porcentaje de supervivencia de los pacientes en dos rangos de edad: de 30 a 50 años y de 51 a 70 años.\n",
    "\n",
    "\n",
    "<div>\n",
    "  <a href=\"#TD5\">Respuesta</a>\n",
    "</div>"
   ]
  },
  {
   "cell_type": "markdown",
   "id": "e7e8834e-44f0-44bb-bc06-fa607d62faeb",
   "metadata": {},
   "source": [
    "<a name=\"PClave2\"></a>\n",
    "<div style=\"\n",
    "  background-color: #d1ecf1;\n",
    "  padding: 20px;\n",
    "  margin-bottom: 20px;\n",
    "  font-family: sans-serif;\n",
    "  box-shadow: 0 2px 4px rgba(0,0,0,0.1);\n",
    "\">\n",
    "    \n",
    "<h2 style=\"margin-top: 0;color: #0c5460;\">Puntos clave</h2>\n",
    "\n",
    "1. Utiliza la sentencia `if` para iniciar una condición, `elif` para añadir condiciones adicionales y `else` para proporcionar un valor por defecto.  \n",
    "1. Los bloques de las sentencias condicionales deben estar correctamente indentados.  \n",
    "1. Usa **==** para comprobar la igualdad.  \n",
    "1. La expresión `X and Y` es verdadera si tanto X como Y son verdaderos.\n",
    "1. La expresión `X or Y` es verdadero si al menos uno de los dos, X o Y, es verdadero.  \n",
    "1. `True` y `False` representan los valores de verdad.  \n",
    "\n",
    "</div>\n",
    "<div style=\"text-align: right;\">\n",
    "  <a href=\"#Índice\">Regresar al Índice</a>\n",
    "</div>"
   ]
  },
  {
   "cell_type": "markdown",
   "id": "618b6a9e",
   "metadata": {},
   "source": [
    "<hr style=\"border: 0; height: 5px; background-color: #ccc; margin: 50px 0;\" />"
   ]
  },
  {
   "cell_type": "markdown",
   "id": "254afb1e",
   "metadata": {},
   "source": [
    "<img src=\"img/logoprincipal_TIB.png\"/>"
   ]
  },
  {
   "cell_type": "markdown",
   "id": "907299e4-9912-4da2-82bb-51f6f4ba34ac",
   "metadata": {},
   "source": [
    "<center>\n",
    "            Lección tomada, traducida y modificada de <a href=\"https://swcarpentry.github.io/python-novice-inflammation/05-loop.html\" target=\"_blank\">python-novice-inflammation, lección 5</a>\n",
    "        </center>"
   ]
  },
  {
   "cell_type": "markdown",
   "id": "fd457e61-8713-431c-b517-585f6a5ad0ba",
   "metadata": {},
   "source": [
    "# Loops: repitiendo acciones"
   ]
  },
  {
   "cell_type": "markdown",
   "id": "122618c9",
   "metadata": {},
   "source": [
    "## Pregunta:\n",
    "\n",
    "> ¿Cómo puedo hacer las mismas operaciones con muchos valores diferentes?\n",
    "\n",
    "## Objetivos:\n",
    "> + Explicar qué es un ciclo `for`\n",
    "> + Escribir ciclos `for` para repetir cálculos sencillos\n",
    "> + Verificar los cambios de la variable que controla el ciclo a medida que éste se ejecuta\n",
    "> + Verificar de los cambios en otras variables a medida que son actualizadas en un ciclo `for`\n",
    "\n",
    "<div style=\"text-align: right;\">\n",
    "  <a href=\"#Índice\">Regresar al Índice</a>\n",
    "</div>"
   ]
  },
  {
   "cell_type": "markdown",
   "id": "79ac2f05",
   "metadata": {},
   "source": [
    "## Simplificando tareas con repeticiones\n",
    "\n",
    "En las lecciones anteriores ya aprendimos a analizar y comparar información usando `pandas`, visualizar datos con `matplotlib` y tomar decisiones con estructuras condicionales como `if-else`. Ahora imaginemos que queremos repetir una misma operación —por ejemplo, calcular el porcentaje de supervivencia en distintos grupos de edad o generar múltiples gráficos—. En lugar de escribir el mismo código varias veces, podemos indicarle a `Python` que lo repita por nosotros. Para eso usaremos una nueva herramienta: **el ciclo** `for`, una estructura que permite repetir una o más instrucciones varias veces.\n",
    "\n",
    "\n",
    "Un ejemplo de una tarea repetitiva es acceder a los números de una lista. Podemos imprimir cada número manualmente en líneas separadas,  para realizar esta tarea utilizaremos una lista llamada `odds`."
   ]
  },
  {
   "cell_type": "code",
   "execution_count": null,
   "id": "fd130842-e3d1-4488-a6a7-b2d3e1977c1c",
   "metadata": {},
   "outputs": [],
   "source": [
    "# Lista de 4 elementos\n",
    "odds = [1,3,5,7]"
   ]
  },
  {
   "cell_type": "markdown",
   "id": "ba8da474-ff68-4cd3-aa68-cad76a5aa688",
   "metadata": {},
   "source": [
    "Como ya se mencionó en lecciones anteriores, ***una lista es básicamente una colección ordenada de elementos***, y cada elemento tiene un número único asociado a él (su índice). Esto significa que ***podemos acceder a los elementos de la lista utilizando sus índices***. \n",
    "\n",
    "Por ejemplo, podemos obtener el primer número de la lista `odds`, utilizando `odds[0]`. Una forma de imprimir cada número es utilizar cuatro sentencias `print`:"
   ]
  },
  {
   "cell_type": "code",
   "execution_count": null,
   "id": "613236b2-264d-4c81-8de3-719094d69807",
   "metadata": {},
   "outputs": [],
   "source": [
    "# Imprimir todos los elementos de la lista\n",
    "\n",
    "print(odds[0])\n",
    "print(odds[1])\n",
    "print(odds[2])\n",
    "print(odds[3])"
   ]
  },
  {
   "cell_type": "markdown",
   "id": "381d5ed8-35fa-4cd8-8787-f0b28766a19a",
   "metadata": {},
   "source": [
    "<div style=\"border-left: 8px solid #6a0dad; background-color: #f8f9fa; padding: 20px; margin-bottom: 20px; font-family: sans-serif;\">\n",
    "  <h3>Este es un mal enfoque por tres razones:</h3>\n",
    "  <ol>\n",
    "    <li><strong>No es escalable</strong>. Imagina que necesitas imprimir una lista con cientos de elementos. Escribir cada línea manualmente sería poco práctico y propenso a errores.</li>\n",
    "    <li><strong>Difícil de mantener</strong>. Si quisiéramos añadir un asterisco u otro carácter decorativo a cada elemento impreso, tendríamos que modificar varias líneas de código. Aunque esto no representa un gran problema en listas pequeñas, sí lo sería en listas más extensas.</li>\n",
    "    <li><strong>Frágil</strong>. Si el código se usa con una lista que tiene más elementos de los previstos, solo se mostrarán algunos de ellos. Por el contrario, si la lista es más corta, se producirá un error al intentar acceder a elementos que no existen.</li>\n",
    "  </ol>\n",
    "</div>\n"
   ]
  },
  {
   "cell_type": "code",
   "execution_count": null,
   "id": "08dccd50-7987-4a42-8c19-0c09561ce14e",
   "metadata": {
    "scrolled": true
   },
   "outputs": [],
   "source": [
    "# Cuando la lista es de 3 elementos y queremos imprimir 4\n",
    "odds = [1, 3, 5]\n",
    "\n",
    "print(odds[0])\n",
    "print(odds[1])\n",
    "print(odds[2])\n",
    "print(odds[3])"
   ]
  },
  {
   "cell_type": "markdown",
   "id": "e6b2394d-ddb6-44fa-946f-2fa187f87f28",
   "metadata": {},
   "source": [
    "### Un enfoque mejor es un ciclo **```for```**. La forma general del ciclo es:\n",
    "\n",
    "<center><img src=\"img/forImage3.png\" width=600 height=600 /></center>\n",
    "\n",
    "Utilicemos un ciclo **```for```** para imprimir los valore de la lista impares"
   ]
  },
  {
   "cell_type": "code",
   "execution_count": null,
   "id": "5a2120f5-a16b-4b23-96bc-d06b4d82184c",
   "metadata": {},
   "outputs": [],
   "source": [
    "# Imprimir todos los elementos de la lista\n",
    "odds = [1, 3, 5, 7]\n",
    "\n",
    "# Ciclo para recorrer e imprimir cada número de la lista\n",
    "\n",
    "for num in odds:\n",
    "    print(num)\n",
    "\n"
   ]
  },
  {
   "cell_type": "markdown",
   "id": "99c5459e-355d-46ec-95aa-f94ea74793c4",
   "metadata": {},
   "source": [
    "La versión mejorada utiliza un ciclo `for` para repetir una operación, en este caso, imprimir cada elemento de la lista. Esto hace que el código sea más breve, especialmente si queremos trabajar con listas muy largas, y también lo vuelve más robusto, ya que se adapta automáticamente al número de elementos sin necesidad de modificar cada línea por separado."
   ]
  },
  {
   "cell_type": "code",
   "execution_count": null,
   "id": "80d90b1c-c911-4dbf-919a-e546c9ed0456",
   "metadata": {},
   "outputs": [],
   "source": [
    "# ¿Qué sucede si agregamos algunos elementos a la lista?\n",
    "# ¡Puedo seguir ultilizando el mismo for?\n",
    "\n",
    "odds = [1, 3, 5, 7, 9, 11]\n",
    "\n",
    "# Colocar las instrucciones repetitivas\n",
    "\n",
    "for num in odds:\n",
    "    print(num)\n",
    "\n"
   ]
  },
  {
   "cell_type": "markdown",
   "id": "08b2f269-f144-425f-aee2-5fb787488cba",
   "metadata": {},
   "source": [
    "\n",
    "<figure>\n",
    "    <center><img src=\"img/forPrint.png\" width=400 height=200 /></center>\n",
    "    <figcaption>\n",
    "        <center>\n",
    "            Imagen obtenida de <a href=\"https://swcarpentry.github.io/python-novice-inflammation/05-loop.html\" target=\"_blank\">python-novice-inflammation, lección 5</a>\n",
    "        </center>\n",
    "    </figcaption>\n",
    "</figure>"
   ]
  },
  {
   "cell_type": "markdown",
   "id": "a8852aa7",
   "metadata": {},
   "source": [
    "En este caso, cada número (`num`) de la lista `odds` se extrae e imprime uno tras otro gracias al ciclo `for`. Los números que aparecen al lado de las flechas (en el diagrama) indican la posición o repetición del ciclo en la que se imprimió cada valor, siendo **1** la primera repetición del ciclo y **6** la última. Esto muestra cómo el bucle se adapta automáticamente al tamaño de la lista, sin necesidad de cambiar el código incluso si se agregan más elementos.\n",
    "\n"
   ]
  },
  {
   "cell_type": "markdown",
   "id": "417b474c",
   "metadata": {},
   "source": [
    "<div style=\"\n",
    "  border-left: 8px solid  #FFDE21;\n",
    "  background-color: #ffffff;\n",
    "  padding: 20px;\n",
    "  margin-bottom: 20px;\n",
    "  font-family: sans-serif;\n",
    "  box-shadow: 0 2px 4px rgba(0,0,0,0.1);\n",
    "\">\n",
    "\n",
    "  <h2 style=\"margin-top: 0;\"> 🔔 Reglas importantes </h2>\n",
    "<ol>\n",
    "    <li>Podemos llamar como queramos a la <strong>variable del ciclo</strong></li>\n",
    "    <li>Colocar dos puntos <strong>(:) al final de la línea que inicia el ciclo</strong></li>\n",
    "    <li><strong>Indentar todas las instrucciones que queramos ejecutar dentro del ciclo</strong>, todo lo que se indenta después de la sentencia <code>for</code> pertenece al ciclo.</li>\n",
    "</ol>\n",
    "    En el ejemplo anterior, la variable del ciclo recibió el nombre `num`, pero en realidad podemos usar cualquier nombre que deseemos. Por ejemplo, podríamos haber llamado a la variable `banana`, siempre y cuando usemos ese mismo nombre dentro del cuerpo del ciclo. Lo importante es mantener la coherencia para que Python sepa a qué elemento nos referimos en cada repetición del bucle.\n",
    "     \n",
    "</div>"
   ]
  },
  {
   "cell_type": "code",
   "execution_count": null,
   "id": "d6bc6bc0-ca97-44f2-ba6d-0304245048d7",
   "metadata": {},
   "outputs": [],
   "source": [
    "# Utilizando banana como variable del ciclo\n",
    "\n",
    "odds = [1, 3, 5, 7, 9, 11]\n",
    "\n",
    "for banana in odds:\n",
    "    print(banana)\n",
    "\n",
    "\n"
   ]
  },
  {
   "cell_type": "markdown",
   "id": "b78e4636-b271-44db-99b3-2f59a2d2b010",
   "metadata": {},
   "source": [
    "Es una **buena práctica elegir nombres de variables que sean significativos**, de lo contrario sería más difícil entender lo que está haciendo el ciclo."
   ]
  },
  {
   "cell_type": "markdown",
   "id": "828e88ec",
   "metadata": {},
   "source": [
    "### Contadores: este es otro ejemplo de un ciclo que actualiza repetidamente una variable"
   ]
  },
  {
   "cell_type": "code",
   "execution_count": null,
   "id": "41dd8f17-a09c-4fd4-8cbf-c4d0e6acfd83",
   "metadata": {},
   "outputs": [],
   "source": [
    "# Contar cuántos elementos hay en la lista: Contadores\n",
    "\n",
    "length = 0\n",
    "names = ['Curie', 'Darwin', 'Turing']\n",
    "for value in names:\n",
    "    print(value)\n",
    "    length = length + 1\n",
    "print('Hay', length, 'nombres en la lista.')\n"
   ]
  },
  {
   "cell_type": "markdown",
   "id": "d4625af7-a4ce-453b-8970-fee6a44d3fe4",
   "metadata": {},
   "source": [
    "Este pequeño programa utiliza un patrón muy común llamado **contador**, que sirve para llevar la cuenta de cuántas veces se repite un ciclo.\n",
    "\n",
    "Vale la pena analizar su ejecución paso a paso: como la lista `names` contiene tres elementos, el cuerpo del ciclo (líneas 6 y 7) se ejecutará tres veces. Al comenzar, la variable `length` tiene un valor inicial de cero. En la primera repetición, `value` es `'Curie'` y `length` se incrementa a 1. En la segunda repetición, `value` es `'Darwin'` y `length` pasa a 2. En la tercera y última vuelta, `value` es `'Turing'` y length se actualiza a 3.\n",
    "\n",
    "Una vez que se han procesado todos los elementos de la lista, el ciclo termina y se ejecuta la última línea del programa, que imprime el resultado final: la cantidad total de nombres en la lista.\n",
    "\n",
    "Este tipo de estructura nos permite contar elementos sin necesidad de saber cuántos hay desde el inicio, lo cual es especialmente útil cuando trabajamos con datos que pueden cambiar."
   ]
  },
  {
   "cell_type": "code",
   "execution_count": null,
   "id": "73d40045-f137-4e46-bf30-81e101c16905",
   "metadata": {},
   "outputs": [],
   "source": [
    "# verificando el valor de value salendo del ciclo\n",
    "\n",
    "value = 'Rosalind'\n",
    "for value in ['Curie', 'Darwin', 'Turing']:\n",
    "    print(value)\n",
    "print('después del ciclo, value es', value)\n"
   ]
  },
  {
   "cell_type": "markdown",
   "id": "1d5f1edb-1897-4f47-b5e1-f2fdad7557c7",
   "metadata": {},
   "source": [
    "En Python, calcular la longitud de un objeto es una operación muy común y se puede hacer fácilmente utilizando la función incorporada **```len```**, por ejemplo:"
   ]
  },
  {
   "cell_type": "code",
   "execution_count": null,
   "id": "9d5c23b5-7f5e-4e81-9326-d84b6f31842c",
   "metadata": {},
   "outputs": [],
   "source": [
    "print(len([0, 1, 2, 3]))"
   ]
  },
  {
   "cell_type": "markdown",
   "id": "07ff508f",
   "metadata": {},
   "source": [
    "## Aplicando `for` e `if` para análisis de supervivencia en dos rangos etarios\n",
    "\n",
    "Ahora que sabemos usar condicionales, podemos combinarlos con ciclos for para explorar patrones en nuestros datos. En este ejemplo, analizaremos si hay más pacientes vivos en el grupo de 30 a 50 años o en el de 51 a 70, recorriendo el DataFrame y contando los casos que cumplen con cada condición."
   ]
  },
  {
   "cell_type": "code",
   "execution_count": null,
   "id": "72be8685",
   "metadata": {},
   "outputs": [],
   "source": [
    "# Leer el archivo CSV\n",
    "import pandas\n",
    "df = pandas.read_csv('DataSet/3_Breast_Cancer.csv')\n",
    "\n",
    "\n",
    "alive_30_50 = 0  \n",
    "alive_51_70 = 0\n",
    "\n",
    "for i in range(len(df)):\n",
    "    edad = df.iloc[i]['Age']\n",
    "    status = df.iloc[i]['Status']\n",
    "    \n",
    "    if 30 <= edad <= 50 and status == 'Alive':\n",
    "        alive_30_50 += 1\n",
    "    elif 51 <= edad <= 70 and status == 'Alive':\n",
    "        alive_51_70 += 1\n",
    "\n",
    "print(\"Total de pacientes vivos entre 30 y 50:\", alive_30_50)\n",
    "print(\"Total de pacientes vivos entre 51 y 70:\", alive_51_70)\n",
    "    "
   ]
  },
  {
   "cell_type": "markdown",
   "id": "af851a75",
   "metadata": {},
   "source": [
    "Este programa lee un archivo de datos de cáncer de mama y recorre cada fila del `DataFrame` usando un ciclo `for`. **Para acceder a los valores de cada fila**, utiliza `df.iloc[i]`, que permite seleccionar una fila según su posición (índice numérico). Así, se extraen los valores de edad (`Age`) y estado (`Status`) de cada paciente. Luego, con condicionales `if`, se verifica si el paciente está vivo (`Alive`) y en cuál de los dos rangos de edad se encuentra (30–50 o 51–70 años). Al final, el programa imprime cuántos pacientes vivos hay en cada grupo."
   ]
  },
  {
   "cell_type": "markdown",
   "id": "14844854",
   "metadata": {},
   "source": [
    "## Lista por comprensión\n",
    "\n",
    "Listas por comprensión son una forma rápida y sencilla de **crear nuevas listas en Python**. Permiten construir una lista aplicando una operación o filtro a cada elemento de otra lista (u otra colección), todo en una sola línea de código. Es como decir **“para cada elemento de esta lista, haz esto y guarda el resultado”**. Así, podemos generar listas nuevas de forma más clara y eficiente que usando ciclos tradicionales. Por ejemplo:"
   ]
  },
  {
   "cell_type": "code",
   "execution_count": null,
   "id": "3383c7e5",
   "metadata": {},
   "outputs": [],
   "source": [
    "# Lista original de números\n",
    "numeros = [1, 2, 3, 4, 5]\n",
    "\n",
    "# Crear una nueva lista con los cuadrados de los números usando lista por comprensión\n",
    "cuadrados = [n**2 for n in numeros]\n",
    "\n",
    "print(cuadrados)"
   ]
  },
  {
   "cell_type": "markdown",
   "id": "d96e9924",
   "metadata": {},
   "source": [
    "También podemos mezclar condicionales, por ejemplo:"
   ]
  },
  {
   "cell_type": "code",
   "execution_count": null,
   "id": "da3ffed7",
   "metadata": {},
   "outputs": [],
   "source": [
    "# Lista original de números\n",
    "numeros = [1, 2, 3, 4, 5, 6, 7, 8, 9, 10]\n",
    "\n",
    "# Crear una nueva lista con los números pares solamente\n",
    "pares = [n for n in numeros if n % 2 == 0]\n",
    "\n",
    "print(pares)"
   ]
  },
  {
   "cell_type": "markdown",
   "id": "96bb71eb",
   "metadata": {},
   "source": [
    "Cuando trabajamos con `DataFrames` de `pandas`, también podemos aprovechar esta herramienta para **generar nuevas columnas** basadas en condiciones aplicadas a los datos existentes. Por ejemplo, podemos crear una columna que clasifique a los pacientes según su rango de edad, asignando etiquetas como “30-50” o “51-70” usando una lista por comprensión directamente sobre una columna del DataFrame."
   ]
  },
  {
   "cell_type": "code",
   "execution_count": null,
   "id": "65630bd1",
   "metadata": {},
   "outputs": [],
   "source": [
    "# Generar una nueva columna basada en condiciones aplicadas a los datos existentes\n",
    "# Clasificar a los pacientes según su rango de edad\n",
    "\n",
    "import pandas\n",
    "\n",
    "# Cargar el DataFrame\n",
    "df = pandas.read_csv('DataSet/3_Breast_Cancer.csv')\n",
    "\n",
    "# Crear la columna 'Rango' con solo dos categorías\n",
    "df['Rango'] = ['30-50' if 30 <= edad <= 50 else '51-70' for edad in df['Age']]\n",
    "\n",
    "# Verificar algunas filas\n",
    "print(df[['Age', 'Rango']].head())"
   ]
  },
  {
   "cell_type": "markdown",
   "id": "3dc11bdd-a6f5-4870-8784-f226cfd0cc50",
   "metadata": {},
   "source": [
    "<a name=\"EjLoops\"></a>\n",
    "<div style=\"\n",
    "  background-color: #ADEBB3;\n",
    "  padding: 20px;\n",
    "  margin-bottom: 20px;\n",
    "  font-family: sans-serif;\n",
    "  box-shadow: 0 2px 4px rgba(0,0,0,0.1);\n",
    "\">\n",
    "\n",
    "  <h2 style=\"margin-top: 0;color:#003049;\">Ejercicios propuestos</h2>\n",
    "\n",
    "</div>"
   ]
  },
  {
   "cell_type": "markdown",
   "id": "b9911344-8ac2-4193-9fa4-13b1cd401ee3",
   "metadata": {},
   "source": [
    "## De 1 a N\n",
    "\n",
    "`Python` tiene una función llamada `range` que genera una secuencia de números. `range` puede aceptar 1, 2 o 3 parámetros.\n",
    "\n",
    "> 1. Si se da un parámetro, `range` genera una secuencia de esa longitud, comenzando en cero e incrementando en 1. Por ejemplo, `range(3)` produce los números 0, 1, 2.\n",
    "> 2. Si se dan dos parámetros, `range` comienza en el primero y termina justo antes del segundo, incrementándose en uno. Por ejemplo, `range(2, 5)` produce 2, 3, 4.\n",
    "> 3. Si se dan 3 parámetros, `range` empieza en el primero, termina justo antes del segundo y se incrementa en el tercero. Por ejemplo, `range(3, 10, 2)` produce 3, 5, 7, 9.\n",
    "\n",
    "Usando la función `range`, escribe un ciclo que imprima los 3 primeros números naturales.\n",
    "\n",
    "<div>\n",
    "  <a href=\"#Loops1\">Respuesta</a>\n",
    "</div>"
   ]
  },
  {
   "cell_type": "markdown",
   "id": "9fb538ca",
   "metadata": {},
   "source": [
    "## Entendiendo el ciclo\n",
    "\n",
    "Dado el siguiente ciclo:\n",
    "\n",
    "```python\n",
    "word = 'oxygen'\n",
    "for letter in word:\n",
    "    print(letter)\n",
    "```\n",
    "\n",
    "¿Cuántas veces se ejecutan las instrucciones del ciclo?\n",
    "\n",
    "> 1) 3 veces\n",
    "> 2) 4 veces\n",
    "> 3) 5 veces\n",
    "> 4) 6 veces\n",
    "\n",
    "<div>\n",
    "  <a href=\"#Loops2\">Respuesta</a>\n",
    "</div>"
   ]
  },
  {
   "cell_type": "markdown",
   "id": "e81cd190",
   "metadata": {},
   "source": [
    "## Cálculo de potencias con ciclos\n",
    "\n",
    "```python\n",
    "# El ** es el operador que me permite elevar un número a una potencia\n",
    "print(5 ** 3)\n",
    "```\n",
    "\n",
    "Escribe un ciclo que calcule el mismo resultado que **```5 ** 3```** utilizando la multiplicación (y sin exponenciación).\n",
    "\n",
    "<div>\n",
    "  <a href=\"#Loops3\">Respuesta</a>\n",
    "</div>"
   ]
  },
  {
   "cell_type": "markdown",
   "id": "88d70029-759c-43f5-9cdb-778a1fb5a6f7",
   "metadata": {},
   "source": [
    "## Suma de elementos de una lista\n",
    "\n",
    "Escribe un ciclo que calcule la suma de los elementos de una lista e imprima el valor final, pror ejemplo si la lista es [124, 402, 36] imprime 562\n",
    "\n",
    "<div>\n",
    "  <a href=\"#Loops4\">Respuesta</a>\n",
    "</div>"
   ]
  },
  {
   "cell_type": "markdown",
   "id": "b4b986bf",
   "metadata": {},
   "source": [
    "## Pacientes con Doble Positividad Hormonal\n",
    "\n",
    "Utilizando el archivo **3_Breast_Cancer.csv**, escribe un programa en Python que utilice un ciclo (`for`) para contar cuántas personas tienen estatus positivo tanto en estrógenos (`Estrogen Status`) como en progesterona (`Progesterone Status`).\n",
    "\n",
    "<div>\n",
    "  <a href=\"#Loops5\">Respuesta</a>\n",
    "</div>"
   ]
  },
  {
   "cell_type": "markdown",
   "id": "d6264368-3963-4945-9ba8-1c9e24ba56c7",
   "metadata": {},
   "source": [
    "## Cálculo del valor de un polinómio\n",
    "\n",
    "La función `enumerate` toma una secuencia (por ejemplo, una lista) y genera una nueva secuencia de la misma longitud. Cada elemento de la nueva secuencia es un par compuesto por el índice (0, 1, 2,...) y el valor de la secuencia original:\n",
    "\n",
    "```python\n",
    "for idx, val in enumerate(a_list):\n",
    "    # Do something using idx and val\n",
    "```\n",
    "\n",
    "El código anterior recorre `a_list`, asignando el índice a `idx` y el valor a `val`.\n",
    "Suponga que ha codificado un polinomio como una lista de coeficientes de la siguiente manera: el primer elemento es el término constante, el segundo elemento es el coeficiente del término lineal, el tercero es el coeficiente del término cuadrático, donde el polinomio es de la forma: $𝑎𝑥^0+𝑏𝑥^1+𝑐𝑥^2$\n",
    "\n",
    "```python\n",
    "x = 5\n",
    "coefs = [2, 4, 3]\n",
    "y = coefs[0] * x**0 + coefs[1] * x**1 + coefs[2] * x**2\n",
    "print(y)\n",
    "```\n",
    "\n",
    "Escribe un ciclo utilizando `enumerate(coefs)` que calcule el valor `y` de cualquier polinomio, dados `x` y `coefs`.\n",
    "\n",
    "<div>\n",
    "  <a href=\"#Loops6\">Respuesta</a>\n",
    "</div>"
   ]
  },
  {
   "cell_type": "markdown",
   "id": "0c7e3f2a-6552-4e94-a9ad-a1e68bf57e6d",
   "metadata": {},
   "source": [
    "<a name=\"PClave3\"></a>\n",
    "<div style=\"\n",
    "  background-color: #d1ecf1;\n",
    "  padding: 20px;\n",
    "  margin-bottom: 20px;\n",
    "  font-family: sans-serif;\n",
    "  box-shadow: 0 2px 4px rgba(0,0,0,0.1);\n",
    "\">\n",
    "    \n",
    "<h2 style=\"margin-top: 0;color: #0c5460;\">Puntos clave</h2>\n",
    "\n",
    "1. La **variable** del `for` toma el valor de cada elemento de la lista y lo pone a disposición dentro del bloque para realizar acciones con él.  \n",
    "1. El **cuerpo** de un bucle `for` **debe estar indentado**.  \n",
    "1. Utilice la función `len()` para determinar la longitud de algo que contiene otros valores.  \n",
    "</div>\n",
    "<div style=\"text-align: right;\">\n",
    "  <a href=\"#Índice\">Regresar al Índice</a>\n",
    "</div>"
   ]
  },
  {
   "cell_type": "markdown",
   "id": "53dd5d40",
   "metadata": {},
   "source": [
    "<hr style=\"border: 0; height: 5px; background-color: #ccc; margin: 50px 0;\" />"
   ]
  },
  {
   "cell_type": "markdown",
   "id": "27c945d0",
   "metadata": {},
   "source": [
    "<img src=\"img/logoprincipal_TIB.png\"/>"
   ]
  },
  {
   "cell_type": "markdown",
   "id": "8506ff7d-2e0e-46b1-a00a-f3445059b626",
   "metadata": {},
   "source": [
    "<center>\n",
    "            Lección tomada, traducida y modificada de <a href=\"https://swcarpentry.github.io/python-novice-inflammation/08-func.html\" target=\"_blank\">python-novice-inflammation, lección 8</a>\n",
    "        </center>"
   ]
  },
  {
   "cell_type": "markdown",
   "id": "8c9545a0-b265-46bf-9795-027797a89e6e",
   "metadata": {},
   "source": [
    "# Creación de funciones"
   ]
  },
  {
   "cell_type": "markdown",
   "id": "c8e9c2a4-6485-4687-9281-8c60a529778d",
   "metadata": {},
   "source": [
    "## Pregunta:\n",
    "\n",
    "> + ¿Cómo puedo definir nuevas funciones?\n",
    "> + ¿Cuál es la diferencia entre definir y llamar una función?\n",
    "> + ¿Qé sucede cuando se llama una función?\n",
    "\n",
    "## Objetivos:\n",
    "> + Definir una función que toma parámetros\n",
    "> + Devolver un valor de una función\n",
    "> + Establecer valores por defecto para los parámetros de una función\n",
    "> + Explicar por qué debemos dividir los programas en pequeñas funciones de propósito único.\n",
    "\n",
    "<div style=\"text-align: right;\">\n",
    "  <a href=\"#Índice\">Regresar al Índice</a>\n",
    "</div>"
   ]
  },
  {
   "cell_type": "markdown",
   "id": "c0380584",
   "metadata": {},
   "source": [
    "## Organizando nuestro código con funciones\n",
    "\n",
    "Hasta ahora hemos aprendido a analizar datos, visualizar resultados, tomar decisiones y automatizar tareas repetitivas con ciclos `for`. Sin embargo, a medida que nuestros programas crecen, es común que repitamos bloques de código que realizan exactamente la misma tarea. Para evitar esa repetición y hacer nuestro código más claro y reutilizable, necesitamos una nueva herramienta: **las funciones**. **Las funciones** nos permiten **agrupar instrucciones bajo un nombre**, de modo que podamos ejecutarlas cada vez que las necesitemos, simplemente llamándolas. Aprender a definir nuestras propias funciones es un paso clave para escribir **programas más limpios, organizados y fáciles de mantener**."
   ]
  },
  {
   "cell_type": "markdown",
   "id": "cf28b584-cf5f-4421-91c8-603b7cbe783f",
   "metadata": {},
   "source": [
    "Una forma sencilla de entender su utilidad es con un ejemplo. Supongamos que queremos transformar algunos de nuestros datos, como **convertir** temperaturas de ***Fahrenheit*** a ***Celsius***. Podríamos escribir una instrucción usando la fórmula:\n",
    "\n",
    "$Celsius=(temp - 32) \\times \\frac{5}{9}$"
   ]
  },
  {
   "cell_type": "code",
   "execution_count": null,
   "id": "0cc75839-1ec8-46c7-a1b0-ee65e3b7c1a2",
   "metadata": {},
   "outputs": [],
   "source": [
    "# Conversión de grados Fahrenheit a Celsius\n",
    "\n",
    "fahrenheit_val = 99\n",
    "celsius_val = ((fahrenheit_val - 32) * (5/9))\n",
    "print(celsius_val)"
   ]
  },
  {
   "cell_type": "markdown",
   "id": "d51a383c-7c4e-4078-a58b-f1afe372837b",
   "metadata": {},
   "source": [
    "Esto funciona bien si solo queremos convertir un valor. Pero, ¿qué sucede si necesitamos hacer esta conversión muchas veces en distintos lugares de nuestro programa? Por eejemplo,"
   ]
  },
  {
   "cell_type": "code",
   "execution_count": null,
   "id": "5a57a213-ddcf-4387-b348-c5a35fa20ac3",
   "metadata": {},
   "outputs": [],
   "source": [
    "# Conversión de grados Fahrenheit a Celsius\n",
    "\n",
    "fahrenheit_val = 99\n",
    "celsius_val = ((fahrenheit_val - 32) * (5/9))\n",
    "# .\n",
    "# .\n",
    "# .\n",
    "### En otra parte de mi programa\n",
    "fahrenheit_val2 = 43\n",
    "celsius_val2 = ((fahrenheit_val2 - 32) * (5/9))\n",
    "# .\n",
    "# .\n",
    "# .\n",
    "#### En otra parte neva del programa\n",
    "fahrenheit_val3 = 87\n",
    "celsius_val3 = ((fahrenheit_val3 - 32) * (5/9))\n",
    "print(celsius_val,celsius_val2,celsius_val3)"
   ]
  },
  {
   "cell_type": "markdown",
   "id": "8eaa31c0-bef9-4a2f-9270-babddf05c9b4",
   "metadata": {},
   "source": [
    "Es aquí donde las funciones nos permiten evitar repetir el mismo cálculo, encapsulándolo en un solo lugar que podemos reutilizar todas las veces que sea necesario. \n",
    "\n",
    "## Definición de una función\n",
    "\n",
    "Comencemos definiendo una función llamada `fahr_to_celsius`  que convierta temperaturas de *Fahrenheit* a *Celsius*, utilizando la siguiente fórmula:\n",
    "\n",
    "$Celsius=(temp - 32) \\times \\frac{5}{9}$"
   ]
  },
  {
   "cell_type": "markdown",
   "id": "810a68aa-d826-4556-a387-47f3c7eb1004",
   "metadata": {},
   "source": [
    "La definición de una función en Python comienza con la palabra clave `def`, seguida del **nombre de la función** (en este caso, `fahr_to_celsius`) y una lista de **parámetros** entre paréntesis (como `temp`). El **cuerpo de la función**, es decir, las instrucciones que se ejecutarán cuando se llame a la función— debe ir indentado justo debajo de esa línea inicial. Para indicar el resultado que queremos obtener, usamos la palabra clave `return`, seguida del valor que la función debe devolver.  \n",
    "\n",
    "Cuando usamos (o \"llamamos\") la función, el valor que pasamos como argumento se asigna al parámetro correspondiente (en este caso `temp`), y podemos utilizarlo dentro del cuerpo de la función. El resultado final se devuelve al lugar desde donde se hizo la llamada.  \n",
    "\n",
    "Veamos cómo se ve esto en código y posteriormente, probemos nuestra función."
   ]
  },
  {
   "cell_type": "markdown",
   "id": "798214fb-4ea0-4201-9d92-d5b0065d2a2e",
   "metadata": {},
   "source": [
    "<figure>\n",
    "    <center><img src=\"img/funcion.png\" width=800 height=750 /></center>\n",
    "    <figcaption>\n",
    "        <center>\n",
    "            Imagen obtenida y modificada de <a href=\"https://swcarpentry.github.io/python-novice-inflammation/08-func.html\" target=\"_blank\">python-novice-inflammation, lección 8</a>\n",
    "        </center>\n",
    "    </figcaption>\n",
    "</figure>"
   ]
  },
  {
   "cell_type": "code",
   "execution_count": null,
   "id": "f48798f7-3120-435d-afb5-6677ae6be691",
   "metadata": {},
   "outputs": [],
   "source": [
    "# Función para convertir de grados Fahrenheit a Celsius\n",
    "\n",
    "def fahr_to_celsius(temp):\n",
    "    # Asignando el resultado de la conversión a una variable\n",
    "    return((temp - 32) * (5/9))"
   ]
  },
  {
   "cell_type": "code",
   "execution_count": null,
   "id": "e3920adb-aeb9-4da9-b7cd-acc34edafaa6",
   "metadata": {},
   "outputs": [],
   "source": [
    "## Llamando a la función fahr_to_celsius con el valor de 32\n",
    "fahr_to_celsius(32)"
   ]
  },
  {
   "cell_type": "markdown",
   "id": "83f6f23d-8fa0-4c76-a12f-7475079edf00",
   "metadata": {},
   "source": [
    "Este comando debería **llamar** a nuestra función, utilizando **32** como entrada y devolver el valor de la función.\n",
    "De hecho, **llamar** a nuestra propia función no es diferente de llamar a cualquier otra función:"
   ]
  },
  {
   "cell_type": "code",
   "execution_count": null,
   "id": "2172aa6b-78a2-48bf-9673-de5bd93c43de",
   "metadata": {},
   "outputs": [],
   "source": [
    "# Haciendo el llamado de la función en un print\n",
    "print('Punto de congelación del agua:', fahr_to_celsius(32), 'C')\n",
    "print('Punto de ebullición del agua:', fahr_to_celsius(212), 'C')"
   ]
  },
  {
   "cell_type": "markdown",
   "id": "0a7377ec-12ec-46e8-a699-b59eabb03473",
   "metadata": {},
   "source": [
    "Hemos llamado con éxito a la función que hemos definido, y tenemos acceso al valor que ha devuelto."
   ]
  },
  {
   "cell_type": "markdown",
   "id": "0e5aac73-5a47-440c-a82e-290606016450",
   "metadata": {},
   "source": [
    "## Composición de funciones"
   ]
  },
  {
   "cell_type": "markdown",
   "id": "65f334ba-4eda-46a0-840e-e41dd2b1e47a",
   "metadata": {},
   "source": [
    "Ahora que hemos visto cómo convertir *Fahrenheit* a *Celsius*, podemos escribir la función para convertir *Celsius* a *Kelvin*, considerando que la fórmula para realizar esta conversión es:\n",
    "\n",
    "$Kelvin=TempCelcius + 273.15$"
   ]
  },
  {
   "cell_type": "code",
   "execution_count": null,
   "id": "ca346f07-b17b-496f-bbab-3e559a051020",
   "metadata": {},
   "outputs": [],
   "source": [
    "# Función para convertir de grados Celsius a Kelvin\n",
    "def celsius_to_kelvin(temp_c):\n",
    "    return temp_c + 273.15\n",
    "\n",
    "# Llamado a la función\n",
    "print('punto de congelación del agua en escala Kelvin:', celsius_to_kelvin(0))"
   ]
  },
  {
   "cell_type": "markdown",
   "id": "eeb2a4fb-950b-4dc3-87f5-b7aa68a0c9b3",
   "metadata": {},
   "source": [
    "¿Y qué pasa con la conversión de *Fahrenheit* a *Kelvin*? Podríamos escribir la fórmula, pero no es necesario. En su lugar podemos utilizar las dos funciones que ya hemos creado:"
   ]
  },
  {
   "cell_type": "code",
   "execution_count": null,
   "id": "1e125ffd-7be8-48c9-bb04-07b590a68103",
   "metadata": {},
   "outputs": [],
   "source": [
    "# Función para convertir de grados Fahrenheit a Kelvin\n",
    "def fahr_to_kelvin(temp_f):\n",
    "    temp_c = fahr_to_celsius(temp_f)\n",
    "    temp_k = celsius_to_kelvin(temp_c)\n",
    "    return temp_k\n",
    "\n",
    "# Llamado a la función\n",
    "print('punto de ebullición del agua en Kelvin:', fahr_to_kelvin(212.0))"
   ]
  },
  {
   "cell_type": "markdown",
   "id": "60f52e19-c016-4680-8585-39a02c582c4a",
   "metadata": {},
   "source": [
    "Esta es una primera muestra de cómo se construyen programas más grandes: definimos funciones básicas y luego las combinamos en bloques cada vez más complejos para lograr el efecto que buscamos. Las funciones en programas reales suelen ser más largas que las que mostramos aquí, sin embargo, no deberían ser demasiado, ya que la siguiente persona que las lea podría tener dificultades para entender lo que está haciendo la función."
   ]
  },
  {
   "cell_type": "markdown",
   "id": "d8bd7259-ae88-4bbf-b396-5836dc37f465",
   "metadata": {},
   "source": [
    "## Ámbito de las variables\n",
    "\n",
    "Al hacer nuestras funciones de conversión de temperatura, creamos variables dentro de esas funciones, `temp`, `temp_c`, `temp_f`, y `temp_k`. Nos referimos a estas variables como **variables locales** porque solo existen mientras la función se ejecuta. Si intentamos acceder a sus valores fuera de la función, nos encontraremos con un error:"
   ]
  },
  {
   "cell_type": "code",
   "execution_count": null,
   "id": "4614e0c3-0dd5-4d70-b782-76fcc8b2ebb2",
   "metadata": {},
   "outputs": [],
   "source": [
    "# ¿Qué se muestra ahora si imprimo el valor de temp_k?\n",
    "print('Muestra de nuevo, la temperatura en Kelvin fue:', temp_k)"
   ]
  },
  {
   "cell_type": "markdown",
   "id": "91866ee5-9e62-4037-a3a8-426fc72ed9db",
   "metadata": {},
   "source": [
    "Si deseas reutilizar el valor de la temperatura en Kelvin después de haberlo calculado con `fahr_to_kelvin`, puedes almacenar el resultado de la llamada a la función en una variable:"
   ]
  },
  {
   "cell_type": "code",
   "execution_count": null,
   "id": "f536e455-6d5e-44eb-ae64-98c7a7b18a56",
   "metadata": {},
   "outputs": [],
   "source": [
    "# Almacenar el resultado de la llamada de una función\n",
    "temp_kelvin = fahr_to_kelvin(212.0)\n",
    "print('La temperatura en Kelvin es:', temp_kelvin)"
   ]
  },
  {
   "cell_type": "markdown",
   "id": "21aa96a3-2724-41e5-bbfd-7e3bd8e03288",
   "metadata": {},
   "source": [
    "La variable `temp_kelvin`, al estar definida fuera de cualquier función, se considera una ***variable global***. Dentro de una función, es posible utilizar el valor de estas variables globales:"
   ]
  },
  {
   "cell_type": "code",
   "execution_count": null,
   "id": "de0b82e8-1fdb-463c-a8f6-ad0029ce4ad2",
   "metadata": {},
   "outputs": [],
   "source": [
    "# Utilización de variables globales dentro de una función\n",
    "\n",
    "def print_temperatures():\n",
    "    print('la temperatura en Fahrenheit es:', temp_fahr)\n",
    "    print('la temperatura en Kelvin es:', temp_kelvin)\n",
    "\n",
    "temp_fahr = 212.0\n",
    "temp_kelvin = fahr_to_kelvin(temp_fahr)\n",
    "\n",
    "print_temperatures()"
   ]
  },
  {
   "cell_type": "markdown",
   "id": "32ab4233-810d-43c5-83bc-1935c0c13ffc",
   "metadata": {},
   "source": [
    "## Organizando nuestro análisis con funciones\n",
    "\n",
    "Ahora que sabemos cómo agrupar fragmentos de código en funciones, podemos aplicar este concepto para que nuestro análisis de datos sobre cáncer de mama sea más claro, organizado y reutilizable.\n",
    "\n",
    "En este ejemplo, definimos una función llamada `cargar_datos` para leer el archivo CSV y otra llamada `graficar_visualizaciones`, que se encarga de generar automáticamente tres gráficos clave: el promedio del tamaño de tumor por estadío clínico, una comparación de tamaños entre tumores de grado 1 y grado 3, y un histograma con la distribución de edades. El código de estas visualizaciones es el mismo que vimos anteriormente en el tema de **visualización de datos tabulares**, pero ahora lo encapsulamos dentro de una función para evitar repeticiones y hacer el análisis más modular. Esta organización facilita la lectura, el mantenimiento y la reutilización del código en otros contextos.\n"
   ]
  },
  {
   "cell_type": "code",
   "execution_count": null,
   "id": "94efe606-1194-4528-86e9-fc93fd10c17c",
   "metadata": {},
   "outputs": [],
   "source": [
    "import pandas\n",
    "import matplotlib\n",
    "\n",
    "## Función para leer el archivo de datos y regresar un dataframe\n",
    "def cargar_datos(ruta):\n",
    "    return pandas.read_csv(ruta)\n",
    "\n"
   ]
  },
  {
   "cell_type": "markdown",
   "id": "0fed7026-ec64-4117-be6a-ea270116047f",
   "metadata": {},
   "source": [
    "Y la función llamada `graficar_visualizaciones`, que verifica los datos del DataFrame y genera automáticamente tres gráficos: el promedio del tamaño del tumor por estadío clínico, una comparación visual entre tumores de grado 1 y grado 3, y un histograma con la distribución de edades. Esta función permite reutilizar el mismo conjunto de instrucciones para distintos conjuntos de datos sin necesidad de escribir el mismo código cada vez.\n"
   ]
  },
  {
   "cell_type": "code",
   "execution_count": null,
   "id": "dac6c424-0843-43c7-a969-f3667963c5f1",
   "metadata": {},
   "outputs": [],
   "source": [
    "# Función para visualizar una figura con 3 gráficos, realizados en la lección de\n",
    "# Visualización de datos\n",
    "\n",
    "def graficar_visualizaciones(df):\n",
    " #Genera los tres gráficos en subplots a partir del DataFrame\n",
    "    fig, axs = matplotlib.pyplot.subplots(nrows=1, ncols=3, figsize=(9, 3))\n",
    "\n",
    "    # 1. Promedio de tamaño de tumor por estadío clínico\n",
    "    avr_TumSiz = df.groupby('6th Stage')['Tumor Size'].mean()\n",
    "    axs[0].plot(avr_TumSiz)\n",
    "    axs[0].set_ylabel('Tamaño del tumor')\n",
    "    axs[0].set_xlabel('Estadío clínico')\n",
    "\n",
    "    # 2. Boxplot entre tumores grado 1 y grado 3\n",
    "    tumores_grado1 = df[df['Grade'] == \"1\"]['Tumor Size']\n",
    "    tumores_grado3 = df[df['Grade'] == \"3\"]['Tumor Size']\n",
    "    axs[1].boxplot([tumores_grado1, tumores_grado3], labels=['Grado 1', 'Grado 3'])\n",
    "    axs[1].set_ylabel('Tamaño del tumor')\n",
    "    axs[1].set_title(\"Boxplot\", fontsize=12)\n",
    "\n",
    "    # 3. Histograma de edades\n",
    "    edades = df['Age']\n",
    "    axs[2].hist(edades, bins=40, color='skyblue', edgecolor='black')\n",
    "    axs[2].set_ylabel('Frecuencia')\n",
    "    axs[2].set_xlabel('Edad')\n",
    "\n",
    "    # Estética general\n",
    "    fig.patch.set_facecolor('aliceblue')\n",
    "    axs[0].set_facecolor('beige')\n",
    "    fig.suptitle(\"Visualización de características del cáncer de mama\", fontsize=14)\n",
    "    fig.tight_layout()\n",
    "    matplotlib.pyplot.savefig('CancerGraphGroup.png')\n",
    "    matplotlib.pyplot.show()"
   ]
  },
  {
   "cell_type": "markdown",
   "id": "823c1308",
   "metadata": {},
   "source": [
    "<div style=\"\n",
    "  border-left: 8px solid  #FFDE21;\n",
    "  background-color: #ffffff;\n",
    "  padding: 20px;\n",
    "  margin-bottom: 20px;\n",
    "  font-family: sans-serif;\n",
    "  box-shadow: 0 2px 4px rgba(0,0,0,0.1);\n",
    "\">\n",
    "\n",
    "  <h2 style=\"margin-top: 0;\"> 🔔 ¿Y qué devuelve esta función? </h2>\n",
    " \n",
    "**¡Espera! ¿Acaso olvidamos especificar qué debe devolver esta funcióm?** Pues no. En Python, no todas **las funciones están obligadas a tener una instrucción** `return`. Algunas funciones se utilizan únicamente para organizar el código y ejecutar una serie de instrucciones que realizan una tarea específica, sin necesidad de devolver un valor.\n",
    "\n",
    "Este es el caso de `graficar_visualizaciones`, cuya función principal es mostrar y guardar gráficos. Aunque no devuelve nada explícitamente, cumple una tarea importante: genera visualizaciones basadas en los datos. Por eso, su nombre describe claramente lo que hace, lo que facilita la lectura y comprensión del programa.\n",
    "     \n",
    "</div>"
   ]
  },
  {
   "cell_type": "markdown",
   "id": "1a6b1aa9",
   "metadata": {},
   "source": [
    "El llamado a las funciones sería de la siguiente manera:"
   ]
  },
  {
   "cell_type": "code",
   "execution_count": null,
   "id": "b6ec8473",
   "metadata": {},
   "outputs": [],
   "source": [
    "# Lamado a las funciones\n",
    "datos = cargar_datos('DataSet/3_Breast_Cancer.csv')\n",
    "graficar_visualizaciones(datos)"
   ]
  },
  {
   "cell_type": "markdown",
   "id": "331d5ef9-8464-478c-bbeb-890e239a065a",
   "metadata": {},
   "source": [
    "## Definición de valores por defecto"
   ]
  },
  {
   "cell_type": "markdown",
   "id": "63b7ce53-5070-4e80-b16d-83fef8841bae",
   "metadata": {},
   "source": [
    "Hasta ahora, hemos pasado argumentos a funciones de dos maneras:\n",
    "\n",
    "- Directamente por posición, como en `pandas.read_csv(ruta)`  \n",
    "- Y usando el nombre del parámetro, como en `matplotlib.pyplot.subplots(nrows=1, ncols=3, figsize=(9, 3))`\n",
    "\n",
    "Esta segunda forma nos permite especificar solo algunos argumentos mientras dejamos que los demás tomen valores predeterminados definidos en la función. Esto hace que las funciones sean más flexibles y fáciles de usar.\n",
    "\n",
    "Para entender cómo funciona esto, y aplicar la misma idea en nuestras propias funciones, vamos a redefinir `fahr_to_kelvin` incluyendo un **valor por defecto**. Así podremos llamar a la función con o sin ciertos argumentos, según lo necesitemos."
   ]
  },
  {
   "cell_type": "code",
   "execution_count": null,
   "id": "1991cfe2-2331-4a1d-865b-7b6a9c7a0564",
   "metadata": {},
   "outputs": [],
   "source": [
    "def fahr_to_celsius(temp):\n",
    "    return ((temp - 32) * (5/9))\n",
    "    \n",
    "def celsius_to_kelvin(temp_c):\n",
    "    return temp_c + 273.15\n",
    "    \n",
    "def fahr_to_kelvin(temp_f,printCelsius=0):\n",
    "    temp_c = fahr_to_celsius(temp_f)\n",
    "    temp_k = celsius_to_kelvin(temp_c)\n",
    "# ¿Qué pasa si quiero imprimir también el valor en grados Celsius?\n",
    "    if printCelsius:\n",
    "        print('La temperatura en grados Celsius es: ',temp_c)\n",
    "    return temp_k"
   ]
  },
  {
   "cell_type": "markdown",
   "id": "b6b1687d-e81b-497a-bbfb-4f7bf8705f8f",
   "metadata": {},
   "source": [
    "👉 El cambio clave es la línea:\n",
    "\n",
    "```python\n",
    "def fahr_to_kelvin(temp_f, printCelsius=0):\n",
    "```\n",
    "\n",
    "Aquí, printCelsius tiene un valor predeterminado de 0.  \n",
    "Si llamamos a la función con un segundo argumento como 1, obtendremos información adicional:"
   ]
  },
  {
   "cell_type": "code",
   "execution_count": null,
   "id": "b3be28fb-7175-40b1-b1ec-20ee420574bf",
   "metadata": {},
   "outputs": [],
   "source": [
    "# Devuelve el resultado en Kelvin e imprime los Celsius, si paso dos argumentos\n",
    "print(\"En Kelvin es:\",fahr_to_kelvin(212.0,1)) "
   ]
  },
  {
   "cell_type": "markdown",
   "id": "cdc13749-b417-42b3-84ca-a877117467f8",
   "metadata": {},
   "source": [
    "Pero ahora también podemos llamarlo con un solo parámetro, en cuyo caso a `printCelsius` se le asigna automáticamente el valor por defecto de 0:"
   ]
  },
  {
   "cell_type": "code",
   "execution_count": null,
   "id": "42b2c2ac-57bf-4aa2-95c4-5e4d95e3bd3e",
   "metadata": {},
   "outputs": [],
   "source": [
    "# Solo devuelve el resultado en Kelvin, cuando solo paso un argumento\n",
    "print(\"En Kelvin es:\",fahr_to_kelvin(212.0))"
   ]
  },
  {
   "cell_type": "markdown",
   "id": "def1e503-221a-474b-aeb9-233aff7c76ae",
   "metadata": {},
   "source": [
    "Este enfoque mejora la reutilización y permite que una misma función se adapte a diferentes necesidades sin duplicar código."
   ]
  },
  {
   "cell_type": "code",
   "execution_count": null,
   "id": "86eaec4b-4f90-43a7-bb7c-e2da941e1fa5",
   "metadata": {},
   "outputs": [],
   "source": [
    "# Función con todos sus parámetros por defecto\n",
    "def display(a=1, b=2, c=3):\n",
    "    print('a:', a, 'b:', b, 'c:', c)\n",
    "\n",
    "print('sin parámetros:')\n",
    "display()\n",
    "print('con un parámetro:')\n",
    "display(55)\n",
    "print('con dos parámetros:')\n",
    "display(55, 66)"
   ]
  },
  {
   "cell_type": "markdown",
   "id": "a2495726-2390-4b9e-940e-7833c5d3c872",
   "metadata": {},
   "source": [
    "Como se muestra en este ejemplo, los parámetros se asignan de izquierda a derecha, y aquellos que no tienen un valor explícito reciben su valor por defecto. Podemos anular este comportamiento especificando el valor al pasarlo:"
   ]
  },
  {
   "cell_type": "code",
   "execution_count": null,
   "id": "70912d36-626a-4240-9e01-db1dcb44bb0c",
   "metadata": {},
   "outputs": [],
   "source": [
    "# Especificando el argumento que se pasa\n",
    "print('solo dandole valor a c')\n",
    "display(c=77)"
   ]
  },
  {
   "cell_type": "markdown",
   "id": "38632bcf-e45e-4292-a48e-1baae7d2b494",
   "metadata": {},
   "source": [
    "## Documentación"
   ]
  },
  {
   "cell_type": "markdown",
   "id": "2ad1309d-c480-4cd0-abb9-de1a1aa780a3",
   "metadata": {},
   "source": [
    "Agregar documentación a nuestras funciones es una buena práctica que nos permite recordar, o explicar a otros, qué hace la función, qué parámetros recibe y qué devuelve. La forma habitual de agregar documentación en el software es incluir comentarios como se muestra a continuación en la `función fahr_to_kelvin`"
   ]
  },
  {
   "cell_type": "code",
   "execution_count": null,
   "id": "aecfcc72-ae13-46c7-9fc1-82c2dcb57449",
   "metadata": {},
   "outputs": [],
   "source": [
    "# fahr_to_kelvin(temp_f):\n",
    "# devuelve la conversión de la temperatura temp_f en grados Fahrenheit a grados Kelvin\n",
    "def fahr_to_kelvin(temp_f):\n",
    "    temp_c = fahr_to_celsius(temp_f)\n",
    "    temp_k = celsius_to_kelvin(temp_c)\n",
    "    return temp_k"
   ]
  },
  {
   "cell_type": "markdown",
   "id": "d5e329e4-b6fd-4bf4-917f-f4538a2e4082",
   "metadata": {},
   "source": [
    "Sin embargo, en Python, la forma de documentar una función es utilizando una **cadena de texto triple** justo después de su definición. Esta cadena se llama **docstring**.\n",
    "\n",
    "A continuación, mostramos cómo documentar adecuadamente nuestra función `fahr_to_kelvin`:"
   ]
  },
  {
   "cell_type": "code",
   "execution_count": null,
   "id": "e07b0bb8-727c-4e35-bffa-15bd43a42c4a",
   "metadata": {},
   "outputs": [],
   "source": [
    "def fahr_to_kelvin(temp_f):\n",
    "    \"\"\"devuelve la conversión de la temperatura temp_f en grados Fahrenheit a grados Kelvin\"\"\"\n",
    "    temp_c = fahr_to_celsius(temp_f)\n",
    "    temp_k = celsius_to_kelvin(temp_c)\n",
    "    return temp_k"
   ]
  },
  {
   "cell_type": "markdown",
   "id": "68f99aee-3cd4-4b38-b18a-7d4a442bbcf0",
   "metadata": {},
   "source": [
    "Esto es mejor porque ahora podemos solicitar al sistema de ayuda integrado de Python que nos muestre la documentación de la función:"
   ]
  },
  {
   "cell_type": "code",
   "execution_count": null,
   "id": "bd6e61ec-0659-41bd-a9da-366fd0e6be77",
   "metadata": {},
   "outputs": [],
   "source": [
    "# Solicitar ayuda de la función generada\n",
    "help(fahr_to_kelvin)"
   ]
  },
  {
   "cell_type": "markdown",
   "id": "0aab0e7c-1a3e-4e29-8222-41d6e41181ec",
   "metadata": {},
   "source": [
    "<div style=\"\n",
    "  border-left: 8px solid  #FFDE21;\n",
    "  background-color: #ffffff;\n",
    "  padding: 20px;\n",
    "  margin-bottom: 20px;\n",
    "  font-family: sans-serif;\n",
    "  box-shadow: 0 2px 4px rgba(0,0,0,0.1);\n",
    "\">\n",
    "\n",
    "  <h2 style=\"margin-top: 0;\"> 🔔 ¿Por qué usar comillas triples? </h2>\n",
    " \n",
    "**No es obligatorio** usar comillas triples (`\"\"\"` o `'''`). También podríamos escribir una cadena corta de una sola línea entre comillas simples o dobles.\n",
    "\n",
    "Sin embargo, **usar comillas triples es altamente recomendable**, ya que nos permite:\n",
    "\n",
    "- Dividir la cadena de documentación en **varias líneas**, lo que facilita la lectura.\n",
    "- **Organizar** mejor la información: descripción, parámetros y valor de retorno.\n",
    "- Seguir los estándares de documentación más utilizados en la comunidad Python (como los de [PEP 257](https://www.python.org/dev/peps/pep-0257/)).\n",
    "\n",
    "</div>\n",
    "\n",
    "\n",
    "\n"
   ]
  },
  {
   "cell_type": "code",
   "execution_count": null,
   "id": "8a508fab-2123-4272-abb7-715bc7da7f82",
   "metadata": {},
   "outputs": [],
   "source": [
    "def fahr_to_kelvin(temp_f):\n",
    "    \"\"\"devuelve la conversión de la temperatura temp_f en grados Fahrenheit \n",
    "       a grados Kelvin\n",
    "\n",
    "       Ejemplos\n",
    "       --------\n",
    "    >>> fahr_to_kelvin(212.0)\n",
    "        373.15\n",
    "       \"\"\"\n",
    "    temp_c = fahr_to_celsius(temp_f)\n",
    "    temp_k = celsius_to_kelvin(temp_c)\n",
    "    return temp_k\n",
    "\n",
    "# Solicitar ayuda\n",
    "help(fahr_to_kelvin)"
   ]
  },
  {
   "cell_type": "markdown",
   "id": "67b98eb9-aef4-44b4-9c2d-1ea72b9b376a",
   "metadata": {},
   "source": [
    "<a name=\"EjFun\"></a>\n",
    "<div style=\"\n",
    "  background-color: #ADEBB3;\n",
    "  padding: 20px;\n",
    "  margin-bottom: 20px;\n",
    "  font-family: sans-serif;\n",
    "  box-shadow: 0 2px 4px rgba(0,0,0,0.1);\n",
    "\">\n",
    "\n",
    "  <h2 style=\"margin-top: 0;color:#003049;\">Ejercicios propuestos</h2>\n",
    "\n",
    "</div>"
   ]
  },
  {
   "cell_type": "markdown",
   "id": "e860adc1-d8d4-4f9b-90c8-8c7dd3c45c9e",
   "metadata": {},
   "source": [
    "## Combinar cadenas \n",
    "\n",
    "Sumar dos cadenas implica su concatenación, y produce una nueva cadena con ambos valores unidos: por ejemplo, **\"a\" + \"b\"** da como resultado **\"ab\"**. Ahora, **escribe una función llamada**  `flanquear` que tome dos parámetros: `original` y `decorador`, y devuelva una nueva cadena en la que el carácter `decorador` aparezca al principio y al final de la cadena `original`. Una llamada a tu función debería verse de la siguiente manera:\n",
    "\n",
    "```python\n",
    "print(flanquear('name', '*'))\n",
    "```\n",
    "\n",
    "y se imprimiría:\n",
    "\n",
    "```phyton\n",
    "*name*\n",
    "```\n",
    "\n",
    "<div>\n",
    "  <a href=\"#fun1\">Respuesta</a>\n",
    "</div>"
   ]
  },
  {
   "cell_type": "markdown",
   "id": "11b7e092-8756-4de5-89d3-3342a58d00ed",
   "metadata": {},
   "source": [
    "## Sabemos que `return` y `print` no son intercambiables.\n",
    "\n",
    "La función `print()` muestra datos en la pantalla (salida estándar), mientras que la sentencia `return` devuelve un valor desde una función al programa, lo que permite almacenarlo, reutilizarlo o procesarlo más adelante.\n",
    "\n",
    "Considera el siguiente ejemplo de función:\n",
    "\n",
    "```python\n",
    "def add(a, b):\n",
    "    print(a + b)\n",
    "```\n",
    "\n",
    "¿Qué salida veremos al ejecutar el siguiente código?\n",
    "\n",
    "```python\n",
    "A = add(7, 3)\n",
    "print(A)\n",
    "```\n",
    "\n",
    "<div>\n",
    "  <a href=\"#Fun2\">Respuesta</a>\n",
    "</div>"
   ]
  },
  {
   "cell_type": "markdown",
   "id": "627a5228-a00e-470a-b788-905ae4059f71",
   "metadata": {},
   "source": [
    "## Seleccionando caracteres de una cadena\n",
    "\n",
    "Si la variable `s` se refiere a una cadena, entonces `s[0]` es el primer carácter de la cadena y `s[-1]` es el último. **Escribe una función llamada** `outer` que devuelva una nueva cadena formada únicamente por el primer y el último carácter de la entrada. Una llamada a tu función debería lucir de la siguiente manera:\n",
    "\n",
    "```Python\n",
    "print(outer('helium'))\n",
    "\n",
    "#Salida\n",
    "\n",
    "hm\n",
    "```\n",
    "\n",
    "<div>\n",
    "  <a href=\"#Fun3\">Respuesta</a>\n",
    "</div>"
   ]
  },
  {
   "cell_type": "markdown",
   "id": "98be57e9-f367-4762-ac60-32bf6fe6f1b0",
   "metadata": {},
   "source": [
    "## Definición de valores por defecto\n",
    "\n",
    "**Escribe una función llamada** `saludar` que imprima un saludo personalizado. La función debe recibir un parámetro llamado `nombre`. Si no se proporciona ningún valor para nombre, debe usar **\"invitado\"** como valor por defecto. Luego, llama a la función dos veces:\n",
    "\n",
    "Una vez pasando un nombre (por ejemplo, \"Ana\").\n",
    "```python\n",
    "saludar(\"Ana\")\n",
    "Hola Ana\n",
    "````\n",
    "\n",
    "Otra vez sin pasar ningún argumento.\n",
    "```python\n",
    "saludar()\n",
    "Hola invitado\n",
    "```\n",
    "\n",
    "<div>\n",
    "  <a href=\"#Fun4\">Respuesta</a>\n",
    "</div>"
   ]
  },
  {
   "cell_type": "markdown",
   "id": "c60fe1c7-c802-4611-8205-5f8fb35f6ba6",
   "metadata": {},
   "source": [
    "## Variables dentro y fuera de las funciones\n",
    "\n",
    "¿Qué muestra el siguiente fragmento de código al ejecutarlo y por qué?\n",
    "\n",
    "```python\n",
    "f = 0\n",
    "k = 0\n",
    "\n",
    "def f2k(f):\n",
    "    k = ((f - 32) * (5.0 / 9.0)) + 273.15\n",
    "    return k\n",
    "\n",
    "print(f2k(8))\n",
    "print(f2k(41))\n",
    "print(f2k(32))\n",
    "\n",
    "print(k)\n",
    "```\n",
    "\n",
    "<div>\n",
    "  <a href=\"#Fun5\">Respuesta</a>\n",
    "</div>"
   ]
  },
  {
   "cell_type": "markdown",
   "id": "67afa448-9186-410c-a98b-38d88c477c5c",
   "metadata": {},
   "source": [
    "## Mezcla de parámetros con valor por defecto y sin valor por defecto\n",
    "\n",
    "Dado el siguiente código:\n",
    "\n",
    "```python\n",
    "def numbers(one, two=2, three, four=4):\n",
    "    n = str(one) + str(two) + str(three) + str(four)\n",
    "    return n\n",
    "\n",
    "print(numbers(1, three=3))\n",
    "```\n",
    "\n",
    "¿Qué espera que se imprima? ¿Qué se imprime realmente? ¿Qué regla crees que sigue Python?\n",
    "\n",
    "1) 1234\n",
    "2) uno2tres4\n",
    "3) 1239\n",
    "4) SyntaxError\n",
    "\n",
    "<div>\n",
    "  <a href=\"#Fun6\">Respuesta</a>\n",
    "</div>"
   ]
  },
  {
   "cell_type": "markdown",
   "id": "6b605bd2-80f7-4ac7-bb13-4e9a310aac39",
   "metadata": {},
   "source": [
    "## Código legible\n",
    "\n",
    "Revisa una función que hayas escrito en ejercicios anteriores y busca maneras de mejorar su legibilidad. Luego, colabora con un compañero para intercambiar comentarios sobre las funciones de ambos y discutir cómo podrían mejorarse para hacerlas aún más claras y fáciles de entender.\n",
    "\n",
    "<div>\n",
    "  <a href=\"#Fun7\">Respuesta</a>\n",
    "</div>"
   ]
  },
  {
   "cell_type": "markdown",
   "id": "3a9b96cc-7963-499b-9fda-051f1a7a611a",
   "metadata": {},
   "source": [
    "<a name=\"PClave4\"></a>  \n",
    "<div style=\"\n",
    "  background-color: #d1ecf1;\n",
    "  padding: 20px;\n",
    "  margin-bottom: 20px;\n",
    "  font-family: sans-serif;\n",
    "  box-shadow: 0 2px 4px rgba(0,0,0,0.1);\n",
    "\">\n",
    " \n",
    "<h2 style=\"margin-top: 0;color: #0c5460;\">Puntos clave</h2>\n",
    "\n",
    "1. Para **definir una función** se utiliza `def nombre_función(parámetro)`.\n",
    "2. El **cuerpo** de una **función** debe estar debidamente **indentado**.\n",
    "3. Para llamar a una función se usa nombre_función(valor).\n",
    "5. Las variables definidas dentro de una función sólo son accesibles y utilizables dentro de la función.\n",
    "6. Las **variables creadas fuera de cualquier función** se conocen como variables **globales**.\n",
    "7. Dentro de una función, puedes acceder a las variables globales.\n",
    "8. Si una variable local dentro de una función tiene el mismo nombre que una variable global, la variable local \"anula\" la global dentro de la función.\n",
    "9. `help()`, se utiliza para consultar la documentación de cualquier objeto en Python.\n",
    "10. Añadir `docstrings` a las funciones para proporcionar información sobre su propósito y uso.\n",
    "11. Se pueden especificar valores por defecto para los parámetros al definir una función, usando name=value en la lista de parámetros.\n",
    "12. Los parámetros se pueden pasar a las funciones de tres maneras: por nombre, por posición, u omitiéndolos, en cuyo caso se utilizarán los valores por defecto.\n",
    "</div>\n",
    "\n",
    "<div style=\"text-align: right;\">\n",
    "  <a href=\"#Índice\">Regresar al Índice</a>\n",
    "</div>"
   ]
  },
  {
   "cell_type": "markdown",
   "id": "2c1fa31e",
   "metadata": {},
   "source": [
    "<hr style=\"border: 0; height: 5px; background-color: #ccc; margin: 50px 0;\" />"
   ]
  },
  {
   "cell_type": "markdown",
   "id": "654496a1",
   "metadata": {},
   "source": [
    "<img src=\"img/logoprincipal_TIB.png\"/>"
   ]
  },
  {
   "cell_type": "markdown",
   "id": "d2705c53",
   "metadata": {},
   "source": [
    "# Respuestas ejercicios propuestos"
   ]
  },
  {
   "cell_type": "markdown",
   "id": "55c1f028",
   "metadata": {},
   "source": [
    "En esta sección se presentan **posibles soluciones** a los ejercicios incluidos en las diferentes lecciones.\n",
    "\n",
    "\n",
    "## Objetivo:\n",
    "\n",
    "Ofrecer al estudiante una forma de **verificar sus respuestas**, comparar enfoques y consolidar lo aprendido.   Es importante tener en cuenta que, en muchos casos, **puede existir más de una solución válida** para un mismo ejercicio.\n",
    "\n",
    "### Recomendaciones:\n",
    "- Se sugiere intentar resolver cada ejercicio antes de consultar la solución.\n",
    "- Es útil leer con atención las respuestas para comprender el razonamiento aplicado.\n",
    "- Se recomienda probar las soluciones en un entorno de desarrollo para observar su funcionamiento y experimentar con variantes.\n",
    "\n",
    "\n",
    "<div style=\"text-align: right;\">\n",
    "  <a href=\"#Índice\">Regresar al Índice</a>\n",
    "</div>"
   ]
  },
  {
   "cell_type": "markdown",
   "id": "f91a489e",
   "metadata": {},
   "source": [
    "<div style=\"\n",
    "  background-color: #ADEBB3;\n",
    "  padding: 20px;\n",
    "  margin-bottom: 20px;\n",
    "  font-family: sans-serif;\n",
    "  box-shadow: 0 2px 4px rgba(0,0,0,0.1);\n",
    "\">\n",
    "\n",
    "  <h2 style=\"margin-top: 0;color:#003049;\">Ejercicios Visualización de datos tabulares</h2>\n",
    "\n",
    "</div>"
   ]
  },
  {
   "cell_type": "markdown",
   "id": "1f4e06b9",
   "metadata": {},
   "source": [
    "<a name=\"VDT1\"></a>  \n",
    "### ¿Qué es bins?\n",
    "\n",
    "En el siguiente programa:\n",
    "\n",
    "```python\n",
    "matplotlib.pyplot.hist(data, bins=10)\n",
    "```\n",
    "¿Qué efecto tiene el parámetro `bins` en el histograma?\n",
    "\n",
    "1. Define el número de categorías del eje X\n",
    "2. Cambia el tamaño de las barras\n",
    "3. <u>**Determina cuántos intervalos se usarán para agrupar los datos**</u> ✅ \n",
    "4. Establece el color de las barras"
   ]
  },
  {
   "cell_type": "markdown",
   "id": "7ed41a05",
   "metadata": {},
   "source": [
    "<a name=\"VDT2\"></a>\n",
    "### El lienzo en Matplotlib: tamaño y distribución\n",
    "\n",
    "¿Qué hace el código respecto al diseño de la figura?\n",
    "\n",
    "```python\n",
    "fig, axs = matplotlib.pyplot.subplots(2, 1, figsize=(6, 8))\n",
    "````\n",
    "\n",
    "1. Crea una figura con dos subgráficas horizontales en una figura de 6x8 cm\n",
    "1. <u>**Crea una figura con dos subgráficas verticales y tamaño 6x8 pulgadas**</u> ✅\n",
    "1. Establece dos figuras separadas con un mismo tamaño\n",
    "1. Crea dos gráficos superpuestos en un solo Axes"
   ]
  },
  {
   "cell_type": "markdown",
   "id": "b9b6964e",
   "metadata": {},
   "source": [
    "<a name=\"VDT3\"></a>\n",
    "### Ajustando el tamaño del título\n",
    "\n",
    "¿Qué parámetro se usa para personalizar el tamaño del texto del título?\n",
    "\n",
    "1. <u>**`fontsize`**</u>✅\n",
    "1. `textsize`\n",
    "1. `titlesize`\n",
    "1. `labelsize`"
   ]
  },
  {
   "cell_type": "markdown",
   "id": "502844a8",
   "metadata": {},
   "source": [
    "<a name=\"VDT4\"></a>\n",
    "### Desplazando las gráficas agrupadas\n",
    "\n",
    "Modifica el último programa para que los tres gráficos se desplieguen en forma vertical, en lugar de en línea horizontal."
   ]
  },
  {
   "cell_type": "code",
   "execution_count": null,
   "id": "e68ef39d",
   "metadata": {},
   "outputs": [],
   "source": [
    "import pandas\n",
    "import matplotlib.pyplot\n",
    "\n",
    "dataCancer = pandas.read_csv('DataSet/3_Breast_Cancer.csv')\n",
    "\n",
    "# subplots crea automáticamente la figura y los ejes\n",
    "fig, axs = matplotlib.pyplot.subplots(nrows=3, ncols=1, figsize=(3, 9))\n",
    "\n",
    "# Promedio del tamaño del tumor por estadío clínico (6th_Satge)\n",
    "avr_TumSiz = dataCancer.groupby('6th Stage')['Tumor Size'].mean()\n",
    "axs[0].plot(avr_TumSiz)\n",
    "axs[0].set_ylabel('Tamaño del tumor')\n",
    "axs[0].set_xlabel('Estadío clínico')\n",
    "\n",
    "# Distribución de tamaño de tomor entte grupo 1 y 3\n",
    "# Filtrar los tamaños del tumor por grado\n",
    "tumores_grado1 = dataCancer[dataCancer['Grade'] == \"1\"]['Tumor Size']\n",
    "tumores_grado3 = dataCancer[dataCancer['Grade'] == \"3\"]['Tumor Size']\n",
    "\n",
    "axs[1].boxplot([tumores_grado1, tumores_grado3],labels=['Grado 1', 'Grado 3'])\n",
    "axs[1].set_ylabel('Tamaño del tumor')\n",
    "\n",
    "# Histograma con la distribución de frecuencias de la columna edad\n",
    "edades = dataCancer['Age']\n",
    "axs[2].hist(edades, bins=40, color='skyblue', edgecolor='black')\n",
    "axs[2].set_ylabel('Frecuencia')\n",
    "axs[2].set_xlabel('Edad')\n",
    "\n",
    "\n",
    "fig.patch.set_facecolor('aliceblue')\n",
    "# Título general (debe ir antes o con rect= para no solaparse)\n",
    "fig.suptitle(\"Visualización de características del cáncer de mama\", fontsize=14)\n",
    "axs[0].set_facecolor('beige')\n",
    "axs[1].set_title(\"boxplot\", fontsize=12)\n",
    "\n",
    "\n",
    "fig.tight_layout()\n",
    "\n",
    "matplotlib.pyplot.savefig('CancerGraphGroup.png')\n",
    "matplotlib.pyplot.show()"
   ]
  },
  {
   "cell_type": "markdown",
   "id": "27e023c9",
   "metadata": {},
   "source": [
    "<a name=\"VDT5\"></a>\n",
    "### ¿Qué tan frecuente?\n",
    "\n",
    "Genera una gráfica de histograma para visualizar la frecuencia de los tamaños de tumor."
   ]
  },
  {
   "cell_type": "code",
   "execution_count": null,
   "id": "349af915",
   "metadata": {},
   "outputs": [],
   "source": [
    "import matplotlib\n",
    "import pandas\n",
    "\n",
    "dataCancer = pandas.read_csv('DataSet/3_Breast_Cancer.csv')\n",
    "\n",
    "# Crear el histograma con tus datos\n",
    "matplotlib.pyplot.hist(dataCancer['Tumor Size'], bins=10, color='teal', edgecolor='black')\n",
    "matplotlib.pyplot.title(\"Distribución de Tamaños de Tumor\", fontsize=14)\n",
    "matplotlib.pyplot.xlabel(\"Tamaño del Tumor (cm)\", fontsize=12)\n",
    "matplotlib.pyplot.ylabel(\"Frecuencia\", fontsize=12)\n",
    "matplotlib.pyplot.grid(axis='y', linestyle='--', alpha=0.7)\n",
    "matplotlib.pyplot.show()"
   ]
  },
  {
   "cell_type": "markdown",
   "id": "d904fcd6",
   "metadata": {},
   "source": [
    "<div style=\"text-align: right;\">\n",
    "  <a href=\"#EjVDT\">Regresar a Ejercicios Visualización de datos tabulares</a>\n",
    "</div>"
   ]
  },
  {
   "cell_type": "markdown",
   "id": "5e10a11f",
   "metadata": {},
   "source": [
    "<div style=\"\n",
    "  background-color: #ADEBB3;\n",
    "  padding: 20px;\n",
    "  margin-bottom: 20px;\n",
    "  font-family: sans-serif;\n",
    "  box-shadow: 0 2px 4px rgba(0,0,0,0.1);\n",
    "\">\n",
    "\n",
    "  <h2 style=\"margin-top: 0;color:#003049;\">Ejercicios Tomando decisiones</h2>\n",
    "\n",
    "</div>"
   ]
  },
  {
   "cell_type": "markdown",
   "id": "7e3bd2c5",
   "metadata": {},
   "source": [
    "<a name=\"TD1\"></a>\n",
    "### ¿Cuántos caminos?\n",
    "\n",
    "Considerando el siguiente código:\n",
    "\n",
    "```python\n",
    "if 4 > 5:\n",
    "    print('A')\n",
    "elif 4 == 5:\n",
    "    print('B')\n",
    "elif 4 < 5:\n",
    "    print('C')\n",
    "```\n",
    "\n",
    "¿Cuál de las siguientes respuestas se imprimiría si ejecutaras este código? ¿Por qué has elegido esta respuesta?\n",
    "\n",
    "1. A\n",
    "2. B\n",
    "3. <u>**C**</u> ✅\n",
    "4. B y C"
   ]
  },
  {
   "cell_type": "markdown",
   "id": "44409875",
   "metadata": {},
   "source": [
    "<a name=\"TD2\"></a>\n",
    "### ¿Qué es verdadero?\n",
    "\n",
    "Los valores booleanos **True** y **False** no son los únicos valores que se consideran como verdadero y falso en Python. De hecho, cualquier valor puede ser evaluado en un `if` o `elif`. Después de leer y ejecutar el código siguiente, explica cuál es la regla para los valores que se consideran verdaderos y los que se consideran falsos."
   ]
  },
  {
   "cell_type": "code",
   "execution_count": null,
   "id": "5f077de7",
   "metadata": {},
   "outputs": [],
   "source": [
    "\n",
    "if '':\n",
    "    print('Cadena Vacía es TRUE')\n",
    "if 'word':\n",
    "    print('word es TRUE')\n",
    "if []:\n",
    "    print('lista vacía es TRUE')\n",
    "if [1, 2, 3]:\n",
    "    print('lista no vacía es TRUE')\n",
    "if 0:\n",
    "    print('cero es TRUE')\n",
    "if 1:\n",
    "    print('uno es TRUE')\n",
    "    "
   ]
  },
  {
   "cell_type": "markdown",
   "id": "96b0d6d3",
   "metadata": {},
   "source": [
    "---\n",
    "💡 **Regla general:**\n",
    "En un `if`, cualquier valor \"vacío\" o \"cero\" se considera `False`, todo lo demás se considera `True`."
   ]
  },
  {
   "cell_type": "markdown",
   "id": "110521d3",
   "metadata": {},
   "source": [
    "<a name=\"TD3\"></a>\n",
    "\n",
    "### Eso ```not```es lo que quise decir\n",
    "\n",
    "A veces es útil comprobar si alguna condición **no es verdadera**. El operador booleano `not` puede hacer esto explícitamente. Después de leer y ejecutar el código siguiente, escriba algunas sentencias `if` que utilicen `not` para comprobar la regla que formuló en el reto anterior."
   ]
  },
  {
   "cell_type": "code",
   "execution_count": null,
   "id": "fbd5062a",
   "metadata": {},
   "outputs": [],
   "source": [
    "if not '':\n",
    "    print('La cadena vacía NO es TRUE')\n",
    "if not 'word':\n",
    "    print('word NO es TRUE')\n",
    "if not not True:\n",
    "    print('not NO es TRUE')"
   ]
  },
  {
   "cell_type": "markdown",
   "id": "c7240f9d",
   "metadata": {},
   "source": [
    "> Instrucciones propuestas"
   ]
  },
  {
   "cell_type": "code",
   "execution_count": null,
   "id": "d2f91989",
   "metadata": {},
   "outputs": [],
   "source": [
    "# Ejemplo 1\n",
    "\n",
    "import random\n",
    "\n",
    "x = random.randint(0, 10)  # Número aleatorio entre 0 y 10\n",
    "print(x)\n",
    "if not x:\n",
    "    print(\"x es igual a cero\")\n",
    "\n",
    "\n",
    "# Ejemplo 2\n",
    "texto = input(\"Ingresa un texto: \")\n",
    "\n",
    "if not texto:\n",
    "    print(\"La cadena está vacía\")\n",
    "else:\n",
    "    print(\"Has ingresado:\", texto)\n",
    "\n",
    "x=3\n",
    "if not(x>=5 and x<=20):\n",
    "    print(\"x no está en el intervalo 5 - 20\")"
   ]
  },
  {
   "cell_type": "markdown",
   "id": "e6b8c5ee",
   "metadata": {},
   "source": [
    "<a name=\"TD4\"></a>\n",
    "\n",
    "### Demasiado cerca\n",
    "\n",
    "Escribe algunas condiciones que impriman **```True```** si la diferencia entre la variable **```a```** y **```b```** y es menor o igual al 10% y **```False```** en caso contrario. Compara tu aplicación con la de tu compañero: ¿obtienes la misma respuesta para todos los pares de números posibles?"
   ]
  },
  {
   "cell_type": "code",
   "execution_count": null,
   "id": "fe7cc22c",
   "metadata": {},
   "outputs": [],
   "source": [
    "import random\n",
    "\n",
    "a = random.randint(0, 100)  # Número aleatorio entre 0 y 100\n",
    "b = random.randint(0, 100)\n",
    "\n",
    "if abs(a - b) <= 0.1 * abs(b):\n",
    "    print('True')\n",
    "else:\n",
    "    print('False')"
   ]
  },
  {
   "cell_type": "markdown",
   "id": "cf7f9838",
   "metadata": {},
   "source": [
    "<a name=\"TD5\"></a>\n",
    "\n",
    "### Supervivencia por rango de edad\n",
    "\n",
    "Utilizando el archivo **3_Breast_Cancer.csv**, escribe un programa en Python que calcule y compare el porcentaje de supervivencia de los pacientes en dos rangos de edad: de 30 a 50 años y de 51 a 70 años."
   ]
  },
  {
   "cell_type": "code",
   "execution_count": null,
   "id": "a41081cc",
   "metadata": {},
   "outputs": [],
   "source": [
    "df = pandas.read_csv('DataSet/3_Breast_Cancer.csv')\n",
    "\n",
    "# Filtrar y calcular porcentaje para rango 30-50\n",
    "grupo_30_50 = df[(df['Age'] >= 30) & (df['Age'] <= 50)]\n",
    "porcentaje_30_50 = (grupo_30_50['Status'] == 'Alive').mean() * 100  # mean() en booleanos cuenta el % True\n",
    "\n",
    "# Filtrar y calcular porcentaje para rango 51-70\n",
    "grupo_51_70 = df[(df['Age'] >= 51) & (df['Age'] <= 70)]\n",
    "porcentaje_51_70 = (grupo_51_70['Status'] == 'Alive').mean() * 100\n",
    "\n",
    "# Mostrar resultados\n",
    "print(f\"Porcentaje de supervivencia entre 30 y 50 años: {porcentaje_30_50:.2f}%\")\n",
    "print(f\"Porcentaje de supervivencia entre 51 y 70 años: {porcentaje_51_70:.2f}%\")\n",
    "\n",
    "# Comparar con if-else\n",
    "if porcentaje_30_50 > porcentaje_51_70:\n",
    "    print(\"El rango de edad de 30 a 50 años tiene un porcentaje de supervivencia mayor.\")\n",
    "elif porcentaje_30_50 < porcentaje_51_70:\n",
    "    print(\"El rango de edad de 51 a 70 años tiene un porcentaje de supervivencia mayor.\")\n",
    "else:\n",
    "    print(\"Ambos rangos de edad tienen el mismo porcentaje de supervivencia.\")"
   ]
  },
  {
   "cell_type": "markdown",
   "id": "accf560b",
   "metadata": {},
   "source": [
    "<div style=\"text-align: right;\">\n",
    "  <a href=\"#EjTD\">Regresar a Ejercicios Toma de decisiones</a>\n",
    "</div>"
   ]
  },
  {
   "cell_type": "markdown",
   "id": "f1c14841",
   "metadata": {},
   "source": [
    "<div style=\"\n",
    "  background-color: #ADEBB3;\n",
    "  padding: 20px;\n",
    "  margin-bottom: 20px;\n",
    "  font-family: sans-serif;\n",
    "  box-shadow: 0 2px 4px rgba(0,0,0,0.1);\n",
    "\">\n",
    "\n",
    "  <h2 style=\"margin-top: 0;color:#003049;\">Ejercicios Loops: repitiendo acciones</h2>\n",
    "\n",
    "</div>"
   ]
  },
  {
   "cell_type": "markdown",
   "id": "76aa5d59",
   "metadata": {},
   "source": [
    "<a name=\"Loops1\"></a>\n",
    "\n",
    "### De 1 a N\n",
    "\n",
    "`Python` tiene una función llamada `range` que genera una secuencia de números. `range` puede aceptar 1, 2 o 3 parámetros.\n",
    "\n",
    "> 1. Si se da un parámetro, `range` genera una secuencia de esa longitud, comenzando en cero e incrementando en 1. Por ejemplo, `range(3)` produce los números 0, 1, 2.\n",
    "> 2. Si se dan dos parámetros, `range` comienza en el primero y termina justo antes del segundo, incrementándose en uno. Por ejemplo, `range(2, 5)` produce 2, 3, 4.\n",
    "> 3. Si se dan 3 parámetros, `range` empieza en el primero, termina justo antes del segundo y se incrementa en el tercero. Por ejemplo, `range(3, 10, 2)` produce 3, 5, 7, 9.\n",
    "\n",
    "Usando la función `range`, escribe un ciclo que imprima los 3 primeros números naturales."
   ]
  },
  {
   "cell_type": "code",
   "execution_count": null,
   "id": "f67d68d9",
   "metadata": {},
   "outputs": [],
   "source": [
    "for n in range(1, 4):\n",
    "    print(n)"
   ]
  },
  {
   "cell_type": "markdown",
   "id": "694a76d1",
   "metadata": {},
   "source": [
    "<a name=\"Loops2\"></a>\n",
    "\n",
    "### Entendiendo el ciclo\n",
    "\n",
    "Dado el siguiente ciclo:\n",
    "\n",
    "```python\n",
    "word = 'oxygen'\n",
    "for letter in word:\n",
    "    print(letter)\n",
    "```\n",
    "\n",
    "¿Cuántas veces se ejecutan las instrucciones del ciclo?\n",
    "\n",
    "1) 3 veces\n",
    "2) 4 veces\n",
    "3) 5 veces\n",
    "4) <u>**6 veces**</u> ✅ "
   ]
  },
  {
   "cell_type": "markdown",
   "id": "43649a74",
   "metadata": {},
   "source": [
    "<a name=\"Loops3\"></a>\n",
    "\n",
    "\n",
    "### Cálculo de potencias con ciclos\n",
    "\n",
    "```python\n",
    "# El ** es el operador que me permite elevar un número a una potencia\n",
    "print(5 ** 3)\n",
    "```\n",
    "\n",
    "Escribe un ciclo que calcule el mismo resultado que **```5 ** 3```** utilizando la multiplicación (y sin exponenciación)."
   ]
  },
  {
   "cell_type": "code",
   "execution_count": null,
   "id": "cbacba1f",
   "metadata": {},
   "outputs": [],
   "source": [
    "resultado=1\n",
    "for i in range(0,3):\n",
    "    resultado=resultado * 5\n",
    "print(resultado)"
   ]
  },
  {
   "cell_type": "markdown",
   "id": "afd1266a",
   "metadata": {},
   "source": [
    "<a name=\"Loops4\"></a>\n",
    "\n",
    "\n",
    "### Suma de elementos de una lista\n",
    "\n",
    "Escribe un ciclo que calcule la suma de los elementos de una lista e imprima el valor final, pror ejemplo si la lista es [124, 402, 36] imprime 562"
   ]
  },
  {
   "cell_type": "code",
   "execution_count": null,
   "id": "0cbd3b79",
   "metadata": {},
   "outputs": [],
   "source": [
    "lista = [124, 402, 36]\n",
    "res = 0\n",
    "for i in lista:\n",
    "    res = res + i\n",
    "print(res)"
   ]
  },
  {
   "cell_type": "markdown",
   "id": "decd301b",
   "metadata": {},
   "source": [
    "<a name=\"Loops5\"></a>\n",
    "\n",
    "\n",
    "### Pacientes con Doble Positividad Hormonal\n",
    "\n",
    "Utilizando el archivo **3_Breast_Cancer.csv**, escribe un programa en Python que utilice un ciclo (`for`) para contar cuántas personas tienen estatus positivo tanto en estrógenos (`Estrogen Status`) como en progesterona (`Progesterone Status`)."
   ]
  },
  {
   "cell_type": "code",
   "execution_count": null,
   "id": "d53d2343",
   "metadata": {},
   "outputs": [],
   "source": [
    "import pandas\n",
    "\n",
    "# Leer el archivo CSV\n",
    "df = pandas.read_csv('DataSet/3_Breast_Cancer.csv')\n",
    "\n",
    "# Inicializar contador\n",
    "contador = 0\n",
    "\n",
    "# Recorrer cada fila del DataFrame\n",
    "for i in range(len(df)):\n",
    "    if df.loc[i, 'Estrogen Status'] == 'Positive' and df.loc[i, 'Progesterone Status'] == 'Positive':\n",
    "        contador += 1\n",
    "\n",
    "# Mostrar resultado\n",
    "print(f\"Número de pacientes con estatus positivo en estrógenos y progesterona: {contador}\")\n"
   ]
  },
  {
   "cell_type": "markdown",
   "id": "42ce8827",
   "metadata": {},
   "source": [
    "<a name=\"Loops6\"></a>\n",
    "\n",
    "\n",
    "### Cálculo del valor de un polinómio\n",
    "\n",
    "La función `enumerate` toma una secuencia (por ejemplo, una lista) y genera una nueva secuencia de la misma longitud. Cada elemento de la nueva secuencia es un par compuesto por el índice (0, 1, 2,...) y el valor de la secuencia original:\n",
    "\n",
    "```python\n",
    "for idx, val in enumerate(a_list):\n",
    "    # Do something using idx and val\n",
    "```\n",
    "\n",
    "El código anterior recorre `a_list`, asignando el índice a `idx` y el valor a `val`.\n",
    "Suponga que ha codificado un polinomio como una lista de coeficientes de la siguiente manera: el primer elemento es el término constante, el segundo elemento es el coeficiente del término lineal, el tercero es el coeficiente del término cuadrático, donde el polinomio es de la forma: $𝑎𝑥^0+𝑏𝑥^1+𝑐𝑥^2$\n",
    "\n",
    "```python\n",
    "x = 5\n",
    "coefs = [2, 4, 3]\n",
    "y = coefs[0] * x**0 + coefs[1] * x**1 + coefs[2] * x**2\n",
    "print(y)\n",
    "```\n",
    "\n",
    "Escribe un ciclo utilizando `enumerate(coefs)` que calcule el valor `y` de cualquier polinomio, dados `x` y `coefs`."
   ]
  },
  {
   "cell_type": "code",
   "execution_count": null,
   "id": "f33e147e",
   "metadata": {},
   "outputs": [],
   "source": [
    "x = 5\n",
    "coefs = [2, 4, 3]\n",
    "\n",
    "y = 0\n",
    "for ind, val in enumerate(coefs):\n",
    "    y = y + val * x**ind\n",
    "print(y)"
   ]
  },
  {
   "cell_type": "markdown",
   "id": "feb208b5",
   "metadata": {},
   "source": [
    "<div style=\"text-align: right;\">\n",
    "  <a href=\"#EjLoops\">Regresar a Ejercicios Loops</a>\n",
    "</div>"
   ]
  },
  {
   "cell_type": "markdown",
   "id": "92a3cbd5",
   "metadata": {},
   "source": [
    "<div style=\"\n",
    "  background-color: #ADEBB3;\n",
    "  padding: 20px;\n",
    "  margin-bottom: 20px;\n",
    "  font-family: sans-serif;\n",
    "  box-shadow: 0 2px 4px rgba(0,0,0,0.1);\n",
    "\">\n",
    "\n",
    "  <h2 style=\"margin-top: 0;color:#003049;\">Ejercicios Creación de funciones</h2>\n",
    "\n",
    "</div>"
   ]
  },
  {
   "cell_type": "markdown",
   "id": "961eb343",
   "metadata": {},
   "source": [
    "<a name=\"fun1\"></a>\n",
    "\n",
    "### Combinar cadenas\n",
    "\n",
    "Sumar dos cadenas implica su concatenación, y produce una nueva cadena con ambos valores unidos: por ejemplo, **\"a\" + \"b\"** da como resultado **\"ab\"**. Ahora, **escribe una función llamada**  `flanquear` que tome dos parámetros: `original` y `decorador`, y devuelva una nueva cadena en la que el carácter `decorador` aparezca al principio y al final de la cadena `original`. Una llamada a tu función debería verse de la siguiente manera:\n",
    "\n",
    "```phyton\n",
    "print(flanquear('name', '*'))\n",
    "```\n",
    "\n",
    "y se imprimiría:\n",
    "\n",
    "```phyton\n",
    "*name*\n",
    "```"
   ]
  },
  {
   "cell_type": "code",
   "execution_count": null,
   "id": "9264bfb7",
   "metadata": {},
   "outputs": [],
   "source": [
    "def flanquear(original, decorador):\n",
    "    res=decorador + original + decorador\n",
    "    return(res)\n",
    "\n",
    "print(flanquear('name', '*'))\n"
   ]
  },
  {
   "cell_type": "markdown",
   "id": "7944ea3e",
   "metadata": {},
   "source": [
    "<a name=\"Fun2\"></a>\n",
    "\n",
    "\n",
    "### Sabemos que `return` y `print` no son intercambiables.\n",
    "\n",
    "La función `print()` muestra datos en la pantalla (salida estándar), mientras que la sentencia `return` devuelve un valor desde una función al programa, lo que permite almacenarlo, reutilizarlo o procesarlo más adelante.\n",
    "\n",
    "Considera el siguiente ejemplo de función:\n",
    "\n",
    "```python\n",
    "def add(a, b):\n",
    "    print(a + b)\n",
    "```\n",
    "\n",
    "¿Qué salida veremos al ejecutar el siguiente código?\n",
    "\n",
    "```python\n",
    "A = add(7, 3)\n",
    "print(A)\n",
    "```"
   ]
  },
  {
   "cell_type": "markdown",
   "id": "d221d782",
   "metadata": {},
   "source": [
    "La función imprime 10 en pantalla, pero no devuelve algo, ya que no tiene la instrucción `return`, por lo que Python asigna el valor de `None` a la variable `A`. Así, la salida del programa sería:\n",
    "\n",
    "```Python\n",
    "10\n",
    "None\n",
    "```\n"
   ]
  },
  {
   "cell_type": "markdown",
   "id": "d7c6dee4",
   "metadata": {},
   "source": [
    "<a name=\"Fun3\"></a>\n",
    "\n",
    "\n",
    "### Seleccionando caracteres de una cadena\n",
    "\n",
    "Si la variable `s` se refiere a una cadena, entonces `s[0]` es el primer carácter de la cadena y `s[-1]` es el último. **Escribe una función llamada** `outer` que devuelva una nueva cadena formada únicamente por el primer y el último carácter de la entrada. Una llamada a tu función debería lucir de la siguiente manera:\n",
    "\n",
    "```Python\n",
    "print(outer('helium'))\n",
    "\n",
    "#Salida\n",
    "\n",
    "hm\n",
    "```"
   ]
  },
  {
   "cell_type": "code",
   "execution_count": null,
   "id": "3ad3f7f4",
   "metadata": {},
   "outputs": [],
   "source": [
    "def outer(s):\n",
    "    return(s[0]+s[-1])\n",
    "\n",
    "# Llamada:\n",
    "print(outer('helium'))"
   ]
  },
  {
   "cell_type": "markdown",
   "id": "4b346de4",
   "metadata": {},
   "source": [
    "<a name=\"Fun4\"></a>\n",
    "\n",
    "\n",
    "### Definición de valores por defecto\n",
    "\n",
    "**Escribe una función llamada** `saludar` que imprima un saludo personalizado. La función debe recibir un parámetro llamado `nombre`. Si no se proporciona ningún valor para nombre, debe usar **\"invitado\"** como valor por defecto. Luego, llama a la función dos veces:\n",
    "\n",
    "Una vez pasando un nombre (por ejemplo, \"Ana\").\n",
    "```python\n",
    "saludar(\"Ana\")\n",
    "Hola Ana\n",
    "````\n",
    "\n",
    "Otra vez sin pasar ningún argumento.\n",
    "```python\n",
    "saludar()\n",
    "Hola invitado\n",
    "````"
   ]
  },
  {
   "cell_type": "code",
   "execution_count": null,
   "id": "d508dc6b",
   "metadata": {},
   "outputs": [],
   "source": [
    "def saludar(nombre=\"invitado\"):\n",
    "    print(\"Hola \",nombre)\n",
    "\n",
    "# Llamado a la función con un argumento\n",
    "saludar(\"Ana\")\n",
    "\n",
    "# Llamado a la función sin argumento\n",
    "saludar()"
   ]
  },
  {
   "cell_type": "markdown",
   "id": "38f16d30",
   "metadata": {},
   "source": [
    "<a name=\"Fun5\"></a>\n",
    "\n",
    "\n",
    "### Variables dentro y fuera de las funciones\n",
    "\n",
    "¿Qué muestra el siguiente fragmento de código al ejecutarlo y por qué?"
   ]
  },
  {
   "cell_type": "code",
   "execution_count": null,
   "id": "976f86b9",
   "metadata": {},
   "outputs": [],
   "source": [
    "f = 0\n",
    "k = 0\n",
    "\n",
    "def f2k(f):\n",
    "    k = ((f - 32) * (5.0 / 9.0)) + 273.15\n",
    "    return k\n",
    "\n",
    "print(f2k(8))\n",
    "print(f2k(41))\n",
    "print(f2k(32))\n",
    "\n",
    "print(k)"
   ]
  },
  {
   "cell_type": "markdown",
   "id": "9874506d",
   "metadata": {},
   "source": [
    "Muestra:\n",
    "\n",
    "259.81666666666666  \n",
    "278.15  \n",
    "273.15  \n",
    "0\n",
    "\n",
    "En la línea 2, la **variable global** `k` se inicializa en cero. Luego, la función `f2k` se llama tres veces con distintos argumentos. Dentro de la función, se define una **variable local** también llamada `k`, que almacena el resultado de la conversión y se retorna. Los valores devueltos se imprimen, pero no afectan a la variable global. Finalmente, al imprimir `k`, muestra 0, ya que su valor no fue modificado."
   ]
  },
  {
   "cell_type": "markdown",
   "id": "a1874346",
   "metadata": {},
   "source": [
    "<a name=\"Fun6\"></a>\n",
    "\n",
    "\n",
    "### Mezcla de parámetros con valor por defecto y sin valor por defecto\n",
    "\n",
    "Dado el siguiente código:\n",
    "\n",
    "```python\n",
    "def numbers(one, two=2, three, four=4):\n",
    "    n = str(one) + str(two) + str(three) + str(four)\n",
    "    return n\n",
    "\n",
    "print(numbers(1, three=3))\n",
    "```\n",
    "\n",
    "¿Qué espera que se imprima? ¿Qué se imprime realmente? ¿Qué regla crees que sigue Python?\n",
    "\n",
    "1) 1234  <u>**Espero que esto se imprima**</u>\n",
    "2) uno2tres4\n",
    "3) 1239\n",
    "4) SyntaxError  <u>**Realmente se imprime esto**</u>\n",
    "\n",
    "Python requiere que **todos los parámetros sin valor por defecto** vayan **antes** que los parámetros con valor por defecto en la definición de una función."
   ]
  },
  {
   "cell_type": "markdown",
   "id": "59c97d7d",
   "metadata": {},
   "source": [
    "<a name=\"Fun7\"></a>\n",
    "\n",
    "\n",
    "### Código legible\n",
    "\n",
    "Revisa una función que hayas escrito en ejercicios anteriores y busca maneras de mejorar su legibilidad. Luego, colabora con un compañero para intercambiar comentarios sobre las funciones de ambos y discutir cómo podrían mejorarse para hacerlas aún más claras y fáciles de entender."
   ]
  },
  {
   "cell_type": "code",
   "execution_count": null,
   "id": "e409fff7",
   "metadata": {},
   "outputs": [],
   "source": [
    "def saludar(nombre=\"invitado\"):\n",
    "    \"\"\"\n",
    "    Imprime un saludo personalizado.\n",
    "\n",
    "    Parámetros:\n",
    "        nombre (str): Nombre de la persona a saludar. Por defecto es \"invitado\".\n",
    "    \"\"\"\n",
    "    print(\"Hola\", nombre)\n",
    "\n",
    "help(saludar)"
   ]
  },
  {
   "cell_type": "markdown",
   "id": "98f77673",
   "metadata": {},
   "source": [
    "<div style=\"text-align: right;\">\n",
    "  <a href=\"#EjFun\">Regresar a Ejercicios de funciones</a>\n",
    "</div>"
   ]
  }
 ],
 "metadata": {
  "kernelspec": {
   "display_name": "Python 3 (ipykernel)",
   "language": "python",
   "name": "python3"
  },
  "language_info": {
   "codemirror_mode": {
    "name": "ipython",
    "version": 3
   },
   "file_extension": ".py",
   "mimetype": "text/x-python",
   "name": "python",
   "nbconvert_exporter": "python",
   "pygments_lexer": "ipython3",
   "version": "3.11.4"
  }
 },
 "nbformat": 4,
 "nbformat_minor": 5
}
